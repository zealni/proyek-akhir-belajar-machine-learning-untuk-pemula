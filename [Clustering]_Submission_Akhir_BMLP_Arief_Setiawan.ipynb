{
 "cells": [
  {
   "cell_type": "markdown",
   "metadata": {
    "id": "kZLRMFl0JyyQ"
   },
   "source": [
    "# **1. Perkenalan Dataset**\n"
   ]
  },
  {
   "cell_type": "markdown",
   "metadata": {
    "id": "hssSDn-5n3HR"
   },
   "source": [
    "Tahap pertama, Anda harus mencari dan menggunakan dataset **tanpa label** dengan ketentuan sebagai berikut:\n",
    "\n",
    "1. **Sumber Dataset**:  \n",
    "   Dataset dapat diperoleh dari berbagai sumber, seperti public repositories (*Kaggle*, *UCI ML Repository*, *Open Data*) atau data primer yang Anda kumpulkan sendiri.\n",
    "   \n",
    "2. **Ketentuan Dataset**:\n",
    "   - **Tanpa label**: Dataset tidak boleh memiliki label atau kelas.\n",
    "   - **Jumlah Baris**: Minimal 1000 baris untuk memastikan dataset cukup besar untuk analisis yang bermakna.\n",
    "   - **Tipe Data**: Harus mengandung data **kategorikal** dan **numerikal**.\n",
    "     - *Kategorikal*: Misalnya jenis kelamin, kategori produk.\n",
    "     - *Numerikal*: Misalnya usia, pendapatan, harga.\n",
    "\n",
    "3. **Pembatasan**:  \n",
    "   Dataset yang sudah digunakan dalam latihan clustering (seperti customer segmentation) tidak boleh digunakan."
   ]
  },
  {
   "cell_type": "markdown",
   "metadata": {
    "id": "fKADPWcFKlj3"
   },
   "source": [
    "# **2. Import Library**"
   ]
  },
  {
   "cell_type": "markdown",
   "metadata": {
    "id": "LgA3ERnVn84N"
   },
   "source": [
    "Pada tahap ini, Anda perlu mengimpor beberapa pustaka (library) Python yang dibutuhkan untuk analisis data dan pembangunan model machine learning."
   ]
  },
  {
   "cell_type": "code",
   "execution_count": 3,
   "metadata": {
    "id": "BlmvjLY9M4Yj"
   },
   "outputs": [],
   "source": [
    "import pandas as pd\n",
    "import numpy as np  \n",
    "import matplotlib.pyplot as plt\n",
    "import seaborn as sns\n",
    "from sklearn.model_selection import train_test_split\n",
    "from sklearn.cluster import KMeans\n",
    "from sklearn.preprocessing import StandardScaler, LabelEncoder\n"
   ]
  },
  {
   "cell_type": "markdown",
   "metadata": {
    "id": "f3YIEnAFKrKL"
   },
   "source": [
    "# **3. Memuat Dataset**"
   ]
  },
  {
   "cell_type": "markdown",
   "metadata": {
    "id": "Ey3ItwTen_7E"
   },
   "source": [
    "Pada tahap ini, Anda perlu memuat dataset ke dalam notebook. Jika dataset dalam format CSV, Anda bisa menggunakan pustaka pandas untuk membacanya. Pastikan untuk mengecek beberapa baris awal dataset untuk memahami strukturnya dan memastikan data telah dimuat dengan benar.\n",
    "\n",
    "Jika dataset berada di Google Drive, pastikan Anda menghubungkan Google Drive ke Colab terlebih dahulu. Setelah dataset berhasil dimuat, langkah berikutnya adalah memeriksa kesesuaian data dan siap untuk dianalisis lebih lanjut."
   ]
  },
  {
   "cell_type": "code",
   "execution_count": 4,
   "metadata": {
    "id": "GHCGNTyrM5fS"
   },
   "outputs": [
    {
     "data": {
      "application/vnd.microsoft.datawrangler.viewer.v0+json": {
       "columns": [
        {
         "name": "index",
         "rawType": "int64",
         "type": "integer"
        },
        {
         "name": "TransactionID",
         "rawType": "object",
         "type": "string"
        },
        {
         "name": "AccountID",
         "rawType": "object",
         "type": "string"
        },
        {
         "name": "TransactionAmount",
         "rawType": "float64",
         "type": "float"
        },
        {
         "name": "TransactionDate",
         "rawType": "object",
         "type": "string"
        },
        {
         "name": "TransactionType",
         "rawType": "object",
         "type": "string"
        },
        {
         "name": "Location",
         "rawType": "object",
         "type": "string"
        },
        {
         "name": "DeviceID",
         "rawType": "object",
         "type": "string"
        },
        {
         "name": "IP Address",
         "rawType": "object",
         "type": "string"
        },
        {
         "name": "MerchantID",
         "rawType": "object",
         "type": "string"
        },
        {
         "name": "Channel",
         "rawType": "object",
         "type": "string"
        },
        {
         "name": "CustomerAge",
         "rawType": "int64",
         "type": "integer"
        },
        {
         "name": "CustomerOccupation",
         "rawType": "object",
         "type": "string"
        },
        {
         "name": "TransactionDuration",
         "rawType": "int64",
         "type": "integer"
        },
        {
         "name": "LoginAttempts",
         "rawType": "int64",
         "type": "integer"
        },
        {
         "name": "AccountBalance",
         "rawType": "float64",
         "type": "float"
        },
        {
         "name": "PreviousTransactionDate",
         "rawType": "object",
         "type": "string"
        }
       ],
       "conversionMethod": "pd.DataFrame",
       "ref": "0f3bdf09-bf34-43e3-a8a7-8d66551684bc",
       "rows": [
        [
         "0",
         "TX000001",
         "AC00128",
         "14.09",
         "2023-04-11 16:29:14",
         "Debit",
         "San Diego",
         "D000380",
         "162.198.218.92",
         "M015",
         "ATM",
         "70",
         "Doctor",
         "81",
         "1",
         "5112.21",
         "2024-11-04 08:08:08"
        ],
        [
         "1",
         "TX000002",
         "AC00455",
         "376.24",
         "2023-06-27 16:44:19",
         "Debit",
         "Houston",
         "D000051",
         "13.149.61.4",
         "M052",
         "ATM",
         "68",
         "Doctor",
         "141",
         "1",
         "13758.91",
         "2024-11-04 08:09:35"
        ],
        [
         "2",
         "TX000003",
         "AC00019",
         "126.29",
         "2023-07-10 18:16:08",
         "Debit",
         "Mesa",
         "D000235",
         "215.97.143.157",
         "M009",
         "Online",
         "19",
         "Student",
         "56",
         "1",
         "1122.35",
         "2024-11-04 08:07:04"
        ],
        [
         "3",
         "TX000004",
         "AC00070",
         "184.5",
         "2023-05-05 16:32:11",
         "Debit",
         "Raleigh",
         "D000187",
         "200.13.225.150",
         "M002",
         "Online",
         "26",
         "Student",
         "25",
         "1",
         "8569.06",
         "2024-11-04 08:09:06"
        ],
        [
         "4",
         "TX000005",
         "AC00411",
         "13.45",
         "2023-10-16 17:51:24",
         "Credit",
         "Atlanta",
         "D000308",
         "65.164.3.100",
         "M091",
         "Online",
         "26",
         "Student",
         "198",
         "1",
         "7429.4",
         "2024-11-04 08:06:39"
        ]
       ],
       "shape": {
        "columns": 16,
        "rows": 5
       }
      },
      "text/html": [
       "<div>\n",
       "<style scoped>\n",
       "    .dataframe tbody tr th:only-of-type {\n",
       "        vertical-align: middle;\n",
       "    }\n",
       "\n",
       "    .dataframe tbody tr th {\n",
       "        vertical-align: top;\n",
       "    }\n",
       "\n",
       "    .dataframe thead th {\n",
       "        text-align: right;\n",
       "    }\n",
       "</style>\n",
       "<table border=\"1\" class=\"dataframe\">\n",
       "  <thead>\n",
       "    <tr style=\"text-align: right;\">\n",
       "      <th></th>\n",
       "      <th>TransactionID</th>\n",
       "      <th>AccountID</th>\n",
       "      <th>TransactionAmount</th>\n",
       "      <th>TransactionDate</th>\n",
       "      <th>TransactionType</th>\n",
       "      <th>Location</th>\n",
       "      <th>DeviceID</th>\n",
       "      <th>IP Address</th>\n",
       "      <th>MerchantID</th>\n",
       "      <th>Channel</th>\n",
       "      <th>CustomerAge</th>\n",
       "      <th>CustomerOccupation</th>\n",
       "      <th>TransactionDuration</th>\n",
       "      <th>LoginAttempts</th>\n",
       "      <th>AccountBalance</th>\n",
       "      <th>PreviousTransactionDate</th>\n",
       "    </tr>\n",
       "  </thead>\n",
       "  <tbody>\n",
       "    <tr>\n",
       "      <th>0</th>\n",
       "      <td>TX000001</td>\n",
       "      <td>AC00128</td>\n",
       "      <td>14.09</td>\n",
       "      <td>2023-04-11 16:29:14</td>\n",
       "      <td>Debit</td>\n",
       "      <td>San Diego</td>\n",
       "      <td>D000380</td>\n",
       "      <td>162.198.218.92</td>\n",
       "      <td>M015</td>\n",
       "      <td>ATM</td>\n",
       "      <td>70</td>\n",
       "      <td>Doctor</td>\n",
       "      <td>81</td>\n",
       "      <td>1</td>\n",
       "      <td>5112.21</td>\n",
       "      <td>2024-11-04 08:08:08</td>\n",
       "    </tr>\n",
       "    <tr>\n",
       "      <th>1</th>\n",
       "      <td>TX000002</td>\n",
       "      <td>AC00455</td>\n",
       "      <td>376.24</td>\n",
       "      <td>2023-06-27 16:44:19</td>\n",
       "      <td>Debit</td>\n",
       "      <td>Houston</td>\n",
       "      <td>D000051</td>\n",
       "      <td>13.149.61.4</td>\n",
       "      <td>M052</td>\n",
       "      <td>ATM</td>\n",
       "      <td>68</td>\n",
       "      <td>Doctor</td>\n",
       "      <td>141</td>\n",
       "      <td>1</td>\n",
       "      <td>13758.91</td>\n",
       "      <td>2024-11-04 08:09:35</td>\n",
       "    </tr>\n",
       "    <tr>\n",
       "      <th>2</th>\n",
       "      <td>TX000003</td>\n",
       "      <td>AC00019</td>\n",
       "      <td>126.29</td>\n",
       "      <td>2023-07-10 18:16:08</td>\n",
       "      <td>Debit</td>\n",
       "      <td>Mesa</td>\n",
       "      <td>D000235</td>\n",
       "      <td>215.97.143.157</td>\n",
       "      <td>M009</td>\n",
       "      <td>Online</td>\n",
       "      <td>19</td>\n",
       "      <td>Student</td>\n",
       "      <td>56</td>\n",
       "      <td>1</td>\n",
       "      <td>1122.35</td>\n",
       "      <td>2024-11-04 08:07:04</td>\n",
       "    </tr>\n",
       "    <tr>\n",
       "      <th>3</th>\n",
       "      <td>TX000004</td>\n",
       "      <td>AC00070</td>\n",
       "      <td>184.50</td>\n",
       "      <td>2023-05-05 16:32:11</td>\n",
       "      <td>Debit</td>\n",
       "      <td>Raleigh</td>\n",
       "      <td>D000187</td>\n",
       "      <td>200.13.225.150</td>\n",
       "      <td>M002</td>\n",
       "      <td>Online</td>\n",
       "      <td>26</td>\n",
       "      <td>Student</td>\n",
       "      <td>25</td>\n",
       "      <td>1</td>\n",
       "      <td>8569.06</td>\n",
       "      <td>2024-11-04 08:09:06</td>\n",
       "    </tr>\n",
       "    <tr>\n",
       "      <th>4</th>\n",
       "      <td>TX000005</td>\n",
       "      <td>AC00411</td>\n",
       "      <td>13.45</td>\n",
       "      <td>2023-10-16 17:51:24</td>\n",
       "      <td>Credit</td>\n",
       "      <td>Atlanta</td>\n",
       "      <td>D000308</td>\n",
       "      <td>65.164.3.100</td>\n",
       "      <td>M091</td>\n",
       "      <td>Online</td>\n",
       "      <td>26</td>\n",
       "      <td>Student</td>\n",
       "      <td>198</td>\n",
       "      <td>1</td>\n",
       "      <td>7429.40</td>\n",
       "      <td>2024-11-04 08:06:39</td>\n",
       "    </tr>\n",
       "  </tbody>\n",
       "</table>\n",
       "</div>"
      ],
      "text/plain": [
       "  TransactionID AccountID  TransactionAmount      TransactionDate  \\\n",
       "0      TX000001   AC00128              14.09  2023-04-11 16:29:14   \n",
       "1      TX000002   AC00455             376.24  2023-06-27 16:44:19   \n",
       "2      TX000003   AC00019             126.29  2023-07-10 18:16:08   \n",
       "3      TX000004   AC00070             184.50  2023-05-05 16:32:11   \n",
       "4      TX000005   AC00411              13.45  2023-10-16 17:51:24   \n",
       "\n",
       "  TransactionType   Location DeviceID      IP Address MerchantID Channel  \\\n",
       "0           Debit  San Diego  D000380  162.198.218.92       M015     ATM   \n",
       "1           Debit    Houston  D000051     13.149.61.4       M052     ATM   \n",
       "2           Debit       Mesa  D000235  215.97.143.157       M009  Online   \n",
       "3           Debit    Raleigh  D000187  200.13.225.150       M002  Online   \n",
       "4          Credit    Atlanta  D000308    65.164.3.100       M091  Online   \n",
       "\n",
       "   CustomerAge CustomerOccupation  TransactionDuration  LoginAttempts  \\\n",
       "0           70             Doctor                   81              1   \n",
       "1           68             Doctor                  141              1   \n",
       "2           19            Student                   56              1   \n",
       "3           26            Student                   25              1   \n",
       "4           26            Student                  198              1   \n",
       "\n",
       "   AccountBalance PreviousTransactionDate  \n",
       "0         5112.21     2024-11-04 08:08:08  \n",
       "1        13758.91     2024-11-04 08:09:35  \n",
       "2         1122.35     2024-11-04 08:07:04  \n",
       "3         8569.06     2024-11-04 08:09:06  \n",
       "4         7429.40     2024-11-04 08:06:39  "
      ]
     },
     "execution_count": 4,
     "metadata": {},
     "output_type": "execute_result"
    }
   ],
   "source": [
    "df = pd.read_csv('Dataset_clustering.csv')\n",
    "df.head()"
   ]
  },
  {
   "cell_type": "markdown",
   "metadata": {
    "id": "bgZkbJLpK9UR"
   },
   "source": [
    "# **4. Exploratory Data Analysis (EDA)**\n",
    "\n",
    "Pada tahap ini, Anda akan melakukan **Exploratory Data Analysis (EDA)** untuk memahami karakteristik dataset. EDA bertujuan untuk:\n",
    "\n",
    "1. **Memahami Struktur Data**\n",
    "   - Tinjau jumlah baris dan kolom dalam dataset.  \n",
    "   - Tinjau jenis data di setiap kolom (numerikal atau kategorikal).\n",
    "\n",
    "2. **Menangani Data yang Hilang**  \n",
    "   - Identifikasi dan analisis data yang hilang (*missing values*). Tentukan langkah-langkah yang diperlukan untuk menangani data yang hilang, seperti pengisian atau penghapusan data tersebut.\n",
    "\n",
    "3. **Analisis Distribusi dan Korelasi**  \n",
    "   - Analisis distribusi variabel numerik dengan statistik deskriptif dan visualisasi seperti histogram atau boxplot.  \n",
    "   - Periksa hubungan antara variabel menggunakan matriks korelasi atau scatter plot.\n",
    "\n",
    "4. **Visualisasi Data**  \n",
    "   - Buat visualisasi dasar seperti grafik distribusi dan diagram batang untuk variabel kategorikal.  \n",
    "   - Gunakan heatmap atau pairplot untuk menganalisis korelasi antar variabel.\n",
    "\n",
    "Tujuan dari EDA adalah untuk memperoleh wawasan awal yang mendalam mengenai data dan menentukan langkah selanjutnya dalam analisis atau pemodelan."
   ]
  },
  {
   "cell_type": "code",
   "execution_count": 5,
   "metadata": {
    "id": "dKeejtvxM6X1"
   },
   "outputs": [
    {
     "name": "stdout",
     "output_type": "stream",
     "text": [
      "<class 'pandas.core.frame.DataFrame'>\n",
      "RangeIndex: 2512 entries, 0 to 2511\n",
      "Data columns (total 16 columns):\n",
      " #   Column                   Non-Null Count  Dtype  \n",
      "---  ------                   --------------  -----  \n",
      " 0   TransactionID            2512 non-null   object \n",
      " 1   AccountID                2512 non-null   object \n",
      " 2   TransactionAmount        2512 non-null   float64\n",
      " 3   TransactionDate          2512 non-null   object \n",
      " 4   TransactionType          2512 non-null   object \n",
      " 5   Location                 2512 non-null   object \n",
      " 6   DeviceID                 2512 non-null   object \n",
      " 7   IP Address               2512 non-null   object \n",
      " 8   MerchantID               2512 non-null   object \n",
      " 9   Channel                  2512 non-null   object \n",
      " 10  CustomerAge              2512 non-null   int64  \n",
      " 11  CustomerOccupation       2512 non-null   object \n",
      " 12  TransactionDuration      2512 non-null   int64  \n",
      " 13  LoginAttempts            2512 non-null   int64  \n",
      " 14  AccountBalance           2512 non-null   float64\n",
      " 15  PreviousTransactionDate  2512 non-null   object \n",
      "dtypes: float64(2), int64(3), object(11)\n",
      "memory usage: 314.1+ KB\n"
     ]
    },
    {
     "data": {
      "application/vnd.microsoft.datawrangler.viewer.v0+json": {
       "columns": [
        {
         "name": "index",
         "rawType": "int64",
         "type": "integer"
        },
        {
         "name": "TransactionID",
         "rawType": "object",
         "type": "string"
        },
        {
         "name": "AccountID",
         "rawType": "object",
         "type": "string"
        },
        {
         "name": "TransactionAmount",
         "rawType": "float64",
         "type": "float"
        },
        {
         "name": "TransactionDate",
         "rawType": "object",
         "type": "string"
        },
        {
         "name": "TransactionType",
         "rawType": "object",
         "type": "string"
        },
        {
         "name": "Location",
         "rawType": "object",
         "type": "string"
        },
        {
         "name": "DeviceID",
         "rawType": "object",
         "type": "string"
        },
        {
         "name": "IP Address",
         "rawType": "object",
         "type": "string"
        },
        {
         "name": "MerchantID",
         "rawType": "object",
         "type": "string"
        },
        {
         "name": "Channel",
         "rawType": "object",
         "type": "string"
        },
        {
         "name": "CustomerAge",
         "rawType": "int64",
         "type": "integer"
        },
        {
         "name": "CustomerOccupation",
         "rawType": "object",
         "type": "string"
        },
        {
         "name": "TransactionDuration",
         "rawType": "int64",
         "type": "integer"
        },
        {
         "name": "LoginAttempts",
         "rawType": "int64",
         "type": "integer"
        },
        {
         "name": "AccountBalance",
         "rawType": "float64",
         "type": "float"
        },
        {
         "name": "PreviousTransactionDate",
         "rawType": "object",
         "type": "string"
        }
       ],
       "conversionMethod": "pd.DataFrame",
       "ref": "3f298dfc-6a78-4dda-8dcb-38f79f3ae260",
       "rows": [
        [
         "0",
         "TX000001",
         "AC00128",
         "14.09",
         "2023-04-11 16:29:14",
         "Debit",
         "San Diego",
         "D000380",
         "162.198.218.92",
         "M015",
         "ATM",
         "70",
         "Doctor",
         "81",
         "1",
         "5112.21",
         "2024-11-04 08:08:08"
        ],
        [
         "1",
         "TX000002",
         "AC00455",
         "376.24",
         "2023-06-27 16:44:19",
         "Debit",
         "Houston",
         "D000051",
         "13.149.61.4",
         "M052",
         "ATM",
         "68",
         "Doctor",
         "141",
         "1",
         "13758.91",
         "2024-11-04 08:09:35"
        ],
        [
         "2",
         "TX000003",
         "AC00019",
         "126.29",
         "2023-07-10 18:16:08",
         "Debit",
         "Mesa",
         "D000235",
         "215.97.143.157",
         "M009",
         "Online",
         "19",
         "Student",
         "56",
         "1",
         "1122.35",
         "2024-11-04 08:07:04"
        ],
        [
         "3",
         "TX000004",
         "AC00070",
         "184.5",
         "2023-05-05 16:32:11",
         "Debit",
         "Raleigh",
         "D000187",
         "200.13.225.150",
         "M002",
         "Online",
         "26",
         "Student",
         "25",
         "1",
         "8569.06",
         "2024-11-04 08:09:06"
        ],
        [
         "4",
         "TX000005",
         "AC00411",
         "13.45",
         "2023-10-16 17:51:24",
         "Credit",
         "Atlanta",
         "D000308",
         "65.164.3.100",
         "M091",
         "Online",
         "26",
         "Student",
         "198",
         "1",
         "7429.4",
         "2024-11-04 08:06:39"
        ]
       ],
       "shape": {
        "columns": 16,
        "rows": 5
       }
      },
      "text/html": [
       "<div>\n",
       "<style scoped>\n",
       "    .dataframe tbody tr th:only-of-type {\n",
       "        vertical-align: middle;\n",
       "    }\n",
       "\n",
       "    .dataframe tbody tr th {\n",
       "        vertical-align: top;\n",
       "    }\n",
       "\n",
       "    .dataframe thead th {\n",
       "        text-align: right;\n",
       "    }\n",
       "</style>\n",
       "<table border=\"1\" class=\"dataframe\">\n",
       "  <thead>\n",
       "    <tr style=\"text-align: right;\">\n",
       "      <th></th>\n",
       "      <th>TransactionID</th>\n",
       "      <th>AccountID</th>\n",
       "      <th>TransactionAmount</th>\n",
       "      <th>TransactionDate</th>\n",
       "      <th>TransactionType</th>\n",
       "      <th>Location</th>\n",
       "      <th>DeviceID</th>\n",
       "      <th>IP Address</th>\n",
       "      <th>MerchantID</th>\n",
       "      <th>Channel</th>\n",
       "      <th>CustomerAge</th>\n",
       "      <th>CustomerOccupation</th>\n",
       "      <th>TransactionDuration</th>\n",
       "      <th>LoginAttempts</th>\n",
       "      <th>AccountBalance</th>\n",
       "      <th>PreviousTransactionDate</th>\n",
       "    </tr>\n",
       "  </thead>\n",
       "  <tbody>\n",
       "    <tr>\n",
       "      <th>0</th>\n",
       "      <td>TX000001</td>\n",
       "      <td>AC00128</td>\n",
       "      <td>14.09</td>\n",
       "      <td>2023-04-11 16:29:14</td>\n",
       "      <td>Debit</td>\n",
       "      <td>San Diego</td>\n",
       "      <td>D000380</td>\n",
       "      <td>162.198.218.92</td>\n",
       "      <td>M015</td>\n",
       "      <td>ATM</td>\n",
       "      <td>70</td>\n",
       "      <td>Doctor</td>\n",
       "      <td>81</td>\n",
       "      <td>1</td>\n",
       "      <td>5112.21</td>\n",
       "      <td>2024-11-04 08:08:08</td>\n",
       "    </tr>\n",
       "    <tr>\n",
       "      <th>1</th>\n",
       "      <td>TX000002</td>\n",
       "      <td>AC00455</td>\n",
       "      <td>376.24</td>\n",
       "      <td>2023-06-27 16:44:19</td>\n",
       "      <td>Debit</td>\n",
       "      <td>Houston</td>\n",
       "      <td>D000051</td>\n",
       "      <td>13.149.61.4</td>\n",
       "      <td>M052</td>\n",
       "      <td>ATM</td>\n",
       "      <td>68</td>\n",
       "      <td>Doctor</td>\n",
       "      <td>141</td>\n",
       "      <td>1</td>\n",
       "      <td>13758.91</td>\n",
       "      <td>2024-11-04 08:09:35</td>\n",
       "    </tr>\n",
       "    <tr>\n",
       "      <th>2</th>\n",
       "      <td>TX000003</td>\n",
       "      <td>AC00019</td>\n",
       "      <td>126.29</td>\n",
       "      <td>2023-07-10 18:16:08</td>\n",
       "      <td>Debit</td>\n",
       "      <td>Mesa</td>\n",
       "      <td>D000235</td>\n",
       "      <td>215.97.143.157</td>\n",
       "      <td>M009</td>\n",
       "      <td>Online</td>\n",
       "      <td>19</td>\n",
       "      <td>Student</td>\n",
       "      <td>56</td>\n",
       "      <td>1</td>\n",
       "      <td>1122.35</td>\n",
       "      <td>2024-11-04 08:07:04</td>\n",
       "    </tr>\n",
       "    <tr>\n",
       "      <th>3</th>\n",
       "      <td>TX000004</td>\n",
       "      <td>AC00070</td>\n",
       "      <td>184.50</td>\n",
       "      <td>2023-05-05 16:32:11</td>\n",
       "      <td>Debit</td>\n",
       "      <td>Raleigh</td>\n",
       "      <td>D000187</td>\n",
       "      <td>200.13.225.150</td>\n",
       "      <td>M002</td>\n",
       "      <td>Online</td>\n",
       "      <td>26</td>\n",
       "      <td>Student</td>\n",
       "      <td>25</td>\n",
       "      <td>1</td>\n",
       "      <td>8569.06</td>\n",
       "      <td>2024-11-04 08:09:06</td>\n",
       "    </tr>\n",
       "    <tr>\n",
       "      <th>4</th>\n",
       "      <td>TX000005</td>\n",
       "      <td>AC00411</td>\n",
       "      <td>13.45</td>\n",
       "      <td>2023-10-16 17:51:24</td>\n",
       "      <td>Credit</td>\n",
       "      <td>Atlanta</td>\n",
       "      <td>D000308</td>\n",
       "      <td>65.164.3.100</td>\n",
       "      <td>M091</td>\n",
       "      <td>Online</td>\n",
       "      <td>26</td>\n",
       "      <td>Student</td>\n",
       "      <td>198</td>\n",
       "      <td>1</td>\n",
       "      <td>7429.40</td>\n",
       "      <td>2024-11-04 08:06:39</td>\n",
       "    </tr>\n",
       "  </tbody>\n",
       "</table>\n",
       "</div>"
      ],
      "text/plain": [
       "  TransactionID AccountID  TransactionAmount      TransactionDate  \\\n",
       "0      TX000001   AC00128              14.09  2023-04-11 16:29:14   \n",
       "1      TX000002   AC00455             376.24  2023-06-27 16:44:19   \n",
       "2      TX000003   AC00019             126.29  2023-07-10 18:16:08   \n",
       "3      TX000004   AC00070             184.50  2023-05-05 16:32:11   \n",
       "4      TX000005   AC00411              13.45  2023-10-16 17:51:24   \n",
       "\n",
       "  TransactionType   Location DeviceID      IP Address MerchantID Channel  \\\n",
       "0           Debit  San Diego  D000380  162.198.218.92       M015     ATM   \n",
       "1           Debit    Houston  D000051     13.149.61.4       M052     ATM   \n",
       "2           Debit       Mesa  D000235  215.97.143.157       M009  Online   \n",
       "3           Debit    Raleigh  D000187  200.13.225.150       M002  Online   \n",
       "4          Credit    Atlanta  D000308    65.164.3.100       M091  Online   \n",
       "\n",
       "   CustomerAge CustomerOccupation  TransactionDuration  LoginAttempts  \\\n",
       "0           70             Doctor                   81              1   \n",
       "1           68             Doctor                  141              1   \n",
       "2           19            Student                   56              1   \n",
       "3           26            Student                   25              1   \n",
       "4           26            Student                  198              1   \n",
       "\n",
       "   AccountBalance PreviousTransactionDate  \n",
       "0         5112.21     2024-11-04 08:08:08  \n",
       "1        13758.91     2024-11-04 08:09:35  \n",
       "2         1122.35     2024-11-04 08:07:04  \n",
       "3         8569.06     2024-11-04 08:09:06  \n",
       "4         7429.40     2024-11-04 08:06:39  "
      ]
     },
     "execution_count": 5,
     "metadata": {},
     "output_type": "execute_result"
    }
   ],
   "source": [
    "df.info()\n",
    "df.head()"
   ]
  },
  {
   "cell_type": "code",
   "execution_count": 6,
   "metadata": {},
   "outputs": [
    {
     "data": {
      "text/plain": [
       "TransactionID              0\n",
       "AccountID                  0\n",
       "TransactionAmount          0\n",
       "TransactionDate            0\n",
       "TransactionType            0\n",
       "Location                   0\n",
       "DeviceID                   0\n",
       "IP Address                 0\n",
       "MerchantID                 0\n",
       "Channel                    0\n",
       "CustomerAge                0\n",
       "CustomerOccupation         0\n",
       "TransactionDuration        0\n",
       "LoginAttempts              0\n",
       "AccountBalance             0\n",
       "PreviousTransactionDate    0\n",
       "dtype: int64"
      ]
     },
     "execution_count": 6,
     "metadata": {},
     "output_type": "execute_result"
    }
   ],
   "source": [
    "# Mengecek jumlah missing values di setiap kolom\n",
    "missing_values = df.isnull().sum()\n",
    "missing_values"
   ]
  },
  {
   "cell_type": "code",
   "execution_count": 7,
   "metadata": {},
   "outputs": [
    {
     "data": {
      "image/png": "[encoded data removed]",
      "text/plain": [
       "<Figure size 1200x1200 with 6 Axes>"
      ]
     },
     "metadata": {},
     "output_type": "display_data"
    },
    {
     "data": {
      "application/vnd.microsoft.datawrangler.viewer.v0+json": {
       "columns": [
        {
         "name": "index",
         "rawType": "object",
         "type": "string"
        },
        {
         "name": "TransactionAmount",
         "rawType": "float64",
         "type": "float"
        },
        {
         "name": "CustomerAge",
         "rawType": "float64",
         "type": "float"
        },
        {
         "name": "TransactionDuration",
         "rawType": "float64",
         "type": "float"
        },
        {
         "name": "LoginAttempts",
         "rawType": "float64",
         "type": "float"
        },
        {
         "name": "AccountBalance",
         "rawType": "float64",
         "type": "float"
        }
       ],
       "conversionMethod": "pd.DataFrame",
       "ref": "e6e02567-a3e3-49ab-b52a-a7a2a30d20e6",
       "rows": [
        [
         "count",
         "2512.0",
         "2512.0",
         "2512.0",
         "2512.0",
         "2512.0"
        ],
        [
         "mean",
         "297.5937778662421",
         "44.673964968152866",
         "119.64331210191082",
         "1.1246019108280254",
         "5114.302965764331"
        ],
        [
         "std",
         "291.9462433824226",
         "17.79219819836647",
         "69.963756924654",
         "0.6026622213569613",
         "3900.942498731102"
        ],
        [
         "min",
         "0.26",
         "18.0",
         "10.0",
         "1.0",
         "101.25"
        ],
        [
         "25%",
         "81.885",
         "27.0",
         "63.0",
         "1.0",
         "1504.3700000000001"
        ],
        [
         "50%",
         "211.14",
         "45.0",
         "112.5",
         "1.0",
         "4735.51"
        ],
        [
         "75%",
         "414.52750000000003",
         "59.0",
         "161.0",
         "1.0",
         "7678.82"
        ],
        [
         "max",
         "1919.11",
         "80.0",
         "300.0",
         "5.0",
         "14977.99"
        ]
       ],
       "shape": {
        "columns": 5,
        "rows": 8
       }
      },
      "text/html": [
       "<div>\n",
       "<style scoped>\n",
       "    .dataframe tbody tr th:only-of-type {\n",
       "        vertical-align: middle;\n",
       "    }\n",
       "\n",
       "    .dataframe tbody tr th {\n",
       "        vertical-align: top;\n",
       "    }\n",
       "\n",
       "    .dataframe thead th {\n",
       "        text-align: right;\n",
       "    }\n",
       "</style>\n",
       "<table border=\"1\" class=\"dataframe\">\n",
       "  <thead>\n",
       "    <tr style=\"text-align: right;\">\n",
       "      <th></th>\n",
       "      <th>TransactionAmount</th>\n",
       "      <th>CustomerAge</th>\n",
       "      <th>TransactionDuration</th>\n",
       "      <th>LoginAttempts</th>\n",
       "      <th>AccountBalance</th>\n",
       "    </tr>\n",
       "  </thead>\n",
       "  <tbody>\n",
       "    <tr>\n",
       "      <th>count</th>\n",
       "      <td>2512.000000</td>\n",
       "      <td>2512.000000</td>\n",
       "      <td>2512.000000</td>\n",
       "      <td>2512.000000</td>\n",
       "      <td>2512.000000</td>\n",
       "    </tr>\n",
       "    <tr>\n",
       "      <th>mean</th>\n",
       "      <td>297.593778</td>\n",
       "      <td>44.673965</td>\n",
       "      <td>119.643312</td>\n",
       "      <td>1.124602</td>\n",
       "      <td>5114.302966</td>\n",
       "    </tr>\n",
       "    <tr>\n",
       "      <th>std</th>\n",
       "      <td>291.946243</td>\n",
       "      <td>17.792198</td>\n",
       "      <td>69.963757</td>\n",
       "      <td>0.602662</td>\n",
       "      <td>3900.942499</td>\n",
       "    </tr>\n",
       "    <tr>\n",
       "      <th>min</th>\n",
       "      <td>0.260000</td>\n",
       "      <td>18.000000</td>\n",
       "      <td>10.000000</td>\n",
       "      <td>1.000000</td>\n",
       "      <td>101.250000</td>\n",
       "    </tr>\n",
       "    <tr>\n",
       "      <th>25%</th>\n",
       "      <td>81.885000</td>\n",
       "      <td>27.000000</td>\n",
       "      <td>63.000000</td>\n",
       "      <td>1.000000</td>\n",
       "      <td>1504.370000</td>\n",
       "    </tr>\n",
       "    <tr>\n",
       "      <th>50%</th>\n",
       "      <td>211.140000</td>\n",
       "      <td>45.000000</td>\n",
       "      <td>112.500000</td>\n",
       "      <td>1.000000</td>\n",
       "      <td>4735.510000</td>\n",
       "    </tr>\n",
       "    <tr>\n",
       "      <th>75%</th>\n",
       "      <td>414.527500</td>\n",
       "      <td>59.000000</td>\n",
       "      <td>161.000000</td>\n",
       "      <td>1.000000</td>\n",
       "      <td>7678.820000</td>\n",
       "    </tr>\n",
       "    <tr>\n",
       "      <th>max</th>\n",
       "      <td>1919.110000</td>\n",
       "      <td>80.000000</td>\n",
       "      <td>300.000000</td>\n",
       "      <td>5.000000</td>\n",
       "      <td>14977.990000</td>\n",
       "    </tr>\n",
       "  </tbody>\n",
       "</table>\n",
       "</div>"
      ],
      "text/plain": [
       "       TransactionAmount  CustomerAge  TransactionDuration  LoginAttempts  \\\n",
       "count        2512.000000  2512.000000          2512.000000    2512.000000   \n",
       "mean          297.593778    44.673965           119.643312       1.124602   \n",
       "std           291.946243    17.792198            69.963757       0.602662   \n",
       "min             0.260000    18.000000            10.000000       1.000000   \n",
       "25%            81.885000    27.000000            63.000000       1.000000   \n",
       "50%           211.140000    45.000000           112.500000       1.000000   \n",
       "75%           414.527500    59.000000           161.000000       1.000000   \n",
       "max          1919.110000    80.000000           300.000000       5.000000   \n",
       "\n",
       "       AccountBalance  \n",
       "count     2512.000000  \n",
       "mean      5114.302966  \n",
       "std       3900.942499  \n",
       "min        101.250000  \n",
       "25%       1504.370000  \n",
       "50%       4735.510000  \n",
       "75%       7678.820000  \n",
       "max      14977.990000  "
      ]
     },
     "execution_count": 7,
     "metadata": {},
     "output_type": "execute_result"
    }
   ],
   "source": [
    "import seaborn as sns\n",
    "import matplotlib.pyplot as plt\n",
    "\n",
    "# Statistik deskriptif untuk variabel numerik\n",
    "desc_stats = df.describe()\n",
    "\n",
    "# Visualisasi distribusi variabel numerik\n",
    "numerical_cols = ['TransactionAmount', 'CustomerAge', 'TransactionDuration', 'LoginAttempts', 'AccountBalance']\n",
    "\n",
    "fig, axes = plt.subplots(nrows=3, ncols=2, figsize=(12, 12))\n",
    "axes = axes.flatten()\n",
    "\n",
    "for i, col in enumerate(numerical_cols):\n",
    "    sns.histplot(df[col], bins=30, kde=True, ax=axes[i])\n",
    "    axes[i].set_title(f'Distribusi {col}')\n",
    "\n",
    "plt.tight_layout()\n",
    "plt.show()\n",
    "\n",
    "desc_stats\n"
   ]
  },
  {
   "cell_type": "code",
   "execution_count": 8,
   "metadata": {},
   "outputs": [
    {
     "data": {
      "image/png": "[encoded data removed]",
      "text/plain": [
       "<Figure size 800x600 with 2 Axes>"
      ]
     },
     "metadata": {},
     "output_type": "display_data"
    }
   ],
   "source": [
    "# Matriks korelasi\n",
    "corr_matrix = df[numerical_cols].corr()\n",
    "\n",
    "# Visualisasi heatmap korelasi\n",
    "plt.figure(figsize=(8, 6))\n",
    "sns.heatmap(corr_matrix, annot=True, cmap=\"coolwarm\", fmt=\".2f\", linewidths=0.5)\n",
    "plt.title(\"Matriks Korelasi Antar Variabel Numerik\")\n",
    "plt.show()\n"
   ]
  },
  {
   "cell_type": "code",
   "execution_count": 9,
   "metadata": {},
   "outputs": [
    {
     "data": {
      "image/png": "[encoded data removed]",
      "text/plain": [
       "<Figure size 1800x500 with 3 Axes>"
      ]
     },
     "metadata": {},
     "output_type": "display_data"
    }
   ],
   "source": [
    "# Visualisasi distribusi variabel kategorikal\n",
    "categorical_cols = ['TransactionType', 'Channel', 'CustomerOccupation']\n",
    "\n",
    "fig, axes = plt.subplots(nrows=1, ncols=3, figsize=(18, 5))\n",
    "\n",
    "for i, col in enumerate(categorical_cols):\n",
    "    sns.countplot(x=df[col], order=df[col].value_counts().index,hue=df[col], palette=\"viridis\", ax=axes[i])\n",
    "    axes[i].set_title(f'Distribusi {col}')\n",
    "    axes[i].set_xlabel(col)\n",
    "    axes[i].set_ylabel(\"Jumlah\")\n",
    "\n",
    "plt.tight_layout()\n",
    "plt.show()\n"
   ]
  },
  {
   "cell_type": "markdown",
   "metadata": {
    "id": "cpgHfgnSK3ip"
   },
   "source": [
    "# **5. Data Preprocessing**"
   ]
  },
  {
   "cell_type": "markdown",
   "metadata": {
    "id": "COf8KUPXLg5r"
   },
   "source": [
    "Pada tahap ini, data preprocessing adalah langkah penting untuk memastikan kualitas data sebelum digunakan dalam model machine learning. Data mentah sering kali mengandung nilai kosong, duplikasi, atau rentang nilai yang tidak konsisten, yang dapat memengaruhi kinerja model. Oleh karena itu, proses ini bertujuan untuk membersihkan dan mempersiapkan data agar analisis berjalan optimal.\n",
    "\n",
    "Berikut adalah tahapan-tahapan yang bisa dilakukan, tetapi **tidak terbatas** pada:\n",
    "1. Menghapus atau Menangani Data Kosong (Missing Values)\n",
    "2. Menghapus Data Duplikat\n",
    "3. Normalisasi atau Standarisasi Fitur\n",
    "4. Deteksi dan Penanganan Outlier\n",
    "5. Encoding Data Kategorikal\n",
    "6. Binning (Pengelompokan Data)\n",
    "\n",
    "Cukup sesuaikan dengan karakteristik data yang kamu gunakan yah."
   ]
  },
  {
   "cell_type": "code",
   "execution_count": 10,
   "metadata": {},
   "outputs": [
    {
     "name": "stdout",
     "output_type": "stream",
     "text": [
      "<class 'pandas.core.frame.DataFrame'>\n",
      "RangeIndex: 2512 entries, 0 to 2511\n",
      "Data columns (total 16 columns):\n",
      " #   Column                   Non-Null Count  Dtype  \n",
      "---  ------                   --------------  -----  \n",
      " 0   TransactionID            2512 non-null   object \n",
      " 1   AccountID                2512 non-null   object \n",
      " 2   TransactionAmount        2512 non-null   float64\n",
      " 3   TransactionDate          2512 non-null   object \n",
      " 4   TransactionType          2512 non-null   object \n",
      " 5   Location                 2512 non-null   object \n",
      " 6   DeviceID                 2512 non-null   object \n",
      " 7   IP Address               2512 non-null   object \n",
      " 8   MerchantID               2512 non-null   object \n",
      " 9   Channel                  2512 non-null   object \n",
      " 10  CustomerAge              2512 non-null   int64  \n",
      " 11  CustomerOccupation       2512 non-null   object \n",
      " 12  TransactionDuration      2512 non-null   int64  \n",
      " 13  LoginAttempts            2512 non-null   int64  \n",
      " 14  AccountBalance           2512 non-null   float64\n",
      " 15  PreviousTransactionDate  2512 non-null   object \n",
      "dtypes: float64(2), int64(3), object(11)\n",
      "memory usage: 314.1+ KB\n"
     ]
    },
    {
     "data": {
      "text/plain": [
       "(None,\n",
       "   TransactionID AccountID  TransactionAmount      TransactionDate  \\\n",
       " 0      TX000001   AC00128              14.09  2023-04-11 16:29:14   \n",
       " 1      TX000002   AC00455             376.24  2023-06-27 16:44:19   \n",
       " 2      TX000003   AC00019             126.29  2023-07-10 18:16:08   \n",
       " 3      TX000004   AC00070             184.50  2023-05-05 16:32:11   \n",
       " 4      TX000005   AC00411              13.45  2023-10-16 17:51:24   \n",
       " \n",
       "   TransactionType   Location DeviceID      IP Address MerchantID Channel  \\\n",
       " 0           Debit  San Diego  D000380  162.198.218.92       M015     ATM   \n",
       " 1           Debit    Houston  D000051     13.149.61.4       M052     ATM   \n",
       " 2           Debit       Mesa  D000235  215.97.143.157       M009  Online   \n",
       " 3           Debit    Raleigh  D000187  200.13.225.150       M002  Online   \n",
       " 4          Credit    Atlanta  D000308    65.164.3.100       M091  Online   \n",
       " \n",
       "    CustomerAge CustomerOccupation  TransactionDuration  LoginAttempts  \\\n",
       " 0           70             Doctor                   81              1   \n",
       " 1           68             Doctor                  141              1   \n",
       " 2           19            Student                   56              1   \n",
       " 3           26            Student                   25              1   \n",
       " 4           26            Student                  198              1   \n",
       " \n",
       "    AccountBalance PreviousTransactionDate  \n",
       " 0         5112.21     2024-11-04 08:08:08  \n",
       " 1        13758.91     2024-11-04 08:09:35  \n",
       " 2         1122.35     2024-11-04 08:07:04  \n",
       " 3         8569.06     2024-11-04 08:09:06  \n",
       " 4         7429.40     2024-11-04 08:06:39  )"
      ]
     },
     "execution_count": 10,
     "metadata": {},
     "output_type": "execute_result"
    }
   ],
   "source": [
    "df.info(),df.head()"
   ]
  },
  {
   "cell_type": "code",
   "execution_count": 11,
   "metadata": {},
   "outputs": [
    {
     "data": {
      "text/plain": [
       "TransactionID              0\n",
       "AccountID                  0\n",
       "TransactionAmount          0\n",
       "TransactionDate            0\n",
       "TransactionType            0\n",
       "Location                   0\n",
       "DeviceID                   0\n",
       "IP Address                 0\n",
       "MerchantID                 0\n",
       "Channel                    0\n",
       "CustomerAge                0\n",
       "CustomerOccupation         0\n",
       "TransactionDuration        0\n",
       "LoginAttempts              0\n",
       "AccountBalance             0\n",
       "PreviousTransactionDate    0\n",
       "dtype: int64"
      ]
     },
     "execution_count": 11,
     "metadata": {},
     "output_type": "execute_result"
    }
   ],
   "source": [
    "# Cek missing values\n",
    "missing_values = df.isnull().sum()\n",
    "missing_values"
   ]
  },
  {
   "cell_type": "code",
   "execution_count": 12,
   "metadata": {},
   "outputs": [
    {
     "data": {
      "text/plain": [
       "np.int64(0)"
      ]
     },
     "execution_count": 12,
     "metadata": {},
     "output_type": "execute_result"
    }
   ],
   "source": [
    "# Cek duplikasi\n",
    "duplicate_rows = df.duplicated().sum()\n",
    "duplicate_rows"
   ]
  },
  {
   "cell_type": "code",
   "execution_count": 29,
   "metadata": {},
   "outputs": [],
   "source": [
    "# Menghapus kolom yang tidak relevan\n",
    "df_clean = df.drop(columns=[\"TransactionID\", \"AccountID\", \"DeviceID\", \"IP Address\", \"MerchantID\"])\n",
    "\n",
    "# Mengubah tanggal menjadi format datetime\n",
    "df_clean[\"TransactionDate\"] = pd.to_datetime(df_clean[\"TransactionDate\"])\n",
    "df_clean[\"PreviousTransactionDate\"] = pd.to_datetime(df_clean[\"PreviousTransactionDate\"])\n",
    "\n",
    "# Menghitung selisih waktu dalam hari\n",
    "df_clean[\"DaysSinceLastTransaction\"] = (df_clean[\"TransactionDate\"] - df_clean[\"PreviousTransactionDate\"]).dt.days\n",
    "\n",
    "# Menghapus kolom tanggal asli\n",
    "df_clean = df_clean.drop(columns=[\"TransactionDate\", \"PreviousTransactionDate\"])"
   ]
  },
  {
   "cell_type": "code",
   "execution_count": null,
   "metadata": {},
   "outputs": [],
   "source": [
    "# Encoding Data Kategorikal\n",
    "categorical_cols = [\"TransactionType\", \"Location\", \"Channel\", \"CustomerOccupation\"]\n",
    "label_encoders = {}\n",
    "for col in categorical_cols:\n",
    "    le = LabelEncoder()\n",
    "    df_clean[col] = le.fit_transform(df_clean[col])\n",
    "    label_encoders[col] = le"
   ]
  },
  {
   "cell_type": "code",
   "execution_count": null,
   "metadata": {},
   "outputs": [
    {
     "data": {
      "application/vnd.microsoft.datawrangler.viewer.v0+json": {
       "columns": [
        {
         "name": "index",
         "rawType": "int64",
         "type": "integer"
        },
        {
         "name": "TransactionAmount",
         "rawType": "float64",
         "type": "float"
        },
        {
         "name": "TransactionType",
         "rawType": "int64",
         "type": "integer"
        },
        {
         "name": "Location",
         "rawType": "int64",
         "type": "integer"
        },
        {
         "name": "Channel",
         "rawType": "int64",
         "type": "integer"
        },
        {
         "name": "CustomerAge",
         "rawType": "float64",
         "type": "float"
        },
        {
         "name": "CustomerOccupation",
         "rawType": "int64",
         "type": "integer"
        },
        {
         "name": "TransactionDuration",
         "rawType": "float64",
         "type": "float"
        },
        {
         "name": "LoginAttempts",
         "rawType": "float64",
         "type": "float"
        },
        {
         "name": "AccountBalance",
         "rawType": "float64",
         "type": "float"
        },
        {
         "name": "DaysSinceLastTransaction",
         "rawType": "float64",
         "type": "float"
        }
       ],
       "conversionMethod": "pd.DataFrame",
       "ref": "2daf3d9a-98eb-4653-9f90-568613db16f3",
       "rows": [
        [
         "0",
         "-0.9712754695068417",
         "1",
         "36",
         "0",
         "1.4237182648914386",
         "0",
         "-0.5524432626288956",
         "-0.2067936485059295",
         "-0.000536635052410607",
         "-0.8005258769941832"
        ],
        [
         "1",
         "0.2694396064236744",
         "1",
         "15",
         "0",
         "1.3112870641052805",
         "0",
         "0.30531436617680696",
         "-0.2067936485059295",
         "2.2164715868484435",
         "-0.07655407436125466"
        ],
        [
         "2",
         "-0.5868816229808057",
         "1",
         "23",
         "2",
         "-1.443277355155591",
         "3",
         "-0.9098422746312717",
         "-0.2067936485059295",
         "-1.0235341282270716",
         "0.04567493127807093"
        ],
        [
         "3",
         "-0.38745590278222686",
         "1",
         "33",
         "2",
         "-1.0497681524040379",
         "3",
         "-1.353017049514218",
         "-0.2067936485059295",
         "0.8857974429054191",
         "-0.5748723281215821"
        ],
        [
         "4",
         "-0.9734680903782914",
         "0",
         "1",
         "2",
         "-1.0497681524040379",
         "3",
         "1.1201841135422244",
         "-0.2067936485059295",
         "0.5935893646592064",
         "0.9670935891745255"
        ]
       ],
       "shape": {
        "columns": 10,
        "rows": 5
       }
      },
      "text/html": [
       "<div>\n",
       "<style scoped>\n",
       "    .dataframe tbody tr th:only-of-type {\n",
       "        vertical-align: middle;\n",
       "    }\n",
       "\n",
       "    .dataframe tbody tr th {\n",
       "        vertical-align: top;\n",
       "    }\n",
       "\n",
       "    .dataframe thead th {\n",
       "        text-align: right;\n",
       "    }\n",
       "</style>\n",
       "<table border=\"1\" class=\"dataframe\">\n",
       "  <thead>\n",
       "    <tr style=\"text-align: right;\">\n",
       "      <th></th>\n",
       "      <th>TransactionAmount</th>\n",
       "      <th>TransactionType</th>\n",
       "      <th>Location</th>\n",
       "      <th>Channel</th>\n",
       "      <th>CustomerAge</th>\n",
       "      <th>CustomerOccupation</th>\n",
       "      <th>TransactionDuration</th>\n",
       "      <th>LoginAttempts</th>\n",
       "      <th>AccountBalance</th>\n",
       "      <th>DaysSinceLastTransaction</th>\n",
       "    </tr>\n",
       "  </thead>\n",
       "  <tbody>\n",
       "    <tr>\n",
       "      <th>0</th>\n",
       "      <td>-0.971275</td>\n",
       "      <td>1</td>\n",
       "      <td>36</td>\n",
       "      <td>0</td>\n",
       "      <td>1.423718</td>\n",
       "      <td>0</td>\n",
       "      <td>-0.552443</td>\n",
       "      <td>-0.206794</td>\n",
       "      <td>-0.000537</td>\n",
       "      <td>-0.800526</td>\n",
       "    </tr>\n",
       "    <tr>\n",
       "      <th>1</th>\n",
       "      <td>0.269440</td>\n",
       "      <td>1</td>\n",
       "      <td>15</td>\n",
       "      <td>0</td>\n",
       "      <td>1.311287</td>\n",
       "      <td>0</td>\n",
       "      <td>0.305314</td>\n",
       "      <td>-0.206794</td>\n",
       "      <td>2.216472</td>\n",
       "      <td>-0.076554</td>\n",
       "    </tr>\n",
       "    <tr>\n",
       "      <th>2</th>\n",
       "      <td>-0.586882</td>\n",
       "      <td>1</td>\n",
       "      <td>23</td>\n",
       "      <td>2</td>\n",
       "      <td>-1.443277</td>\n",
       "      <td>3</td>\n",
       "      <td>-0.909842</td>\n",
       "      <td>-0.206794</td>\n",
       "      <td>-1.023534</td>\n",
       "      <td>0.045675</td>\n",
       "    </tr>\n",
       "    <tr>\n",
       "      <th>3</th>\n",
       "      <td>-0.387456</td>\n",
       "      <td>1</td>\n",
       "      <td>33</td>\n",
       "      <td>2</td>\n",
       "      <td>-1.049768</td>\n",
       "      <td>3</td>\n",
       "      <td>-1.353017</td>\n",
       "      <td>-0.206794</td>\n",
       "      <td>0.885797</td>\n",
       "      <td>-0.574872</td>\n",
       "    </tr>\n",
       "    <tr>\n",
       "      <th>4</th>\n",
       "      <td>-0.973468</td>\n",
       "      <td>0</td>\n",
       "      <td>1</td>\n",
       "      <td>2</td>\n",
       "      <td>-1.049768</td>\n",
       "      <td>3</td>\n",
       "      <td>1.120184</td>\n",
       "      <td>-0.206794</td>\n",
       "      <td>0.593589</td>\n",
       "      <td>0.967094</td>\n",
       "    </tr>\n",
       "  </tbody>\n",
       "</table>\n",
       "</div>"
      ],
      "text/plain": [
       "   TransactionAmount  TransactionType  Location  Channel  CustomerAge  \\\n",
       "0          -0.971275                1        36        0     1.423718   \n",
       "1           0.269440                1        15        0     1.311287   \n",
       "2          -0.586882                1        23        2    -1.443277   \n",
       "3          -0.387456                1        33        2    -1.049768   \n",
       "4          -0.973468                0         1        2    -1.049768   \n",
       "\n",
       "   CustomerOccupation  TransactionDuration  LoginAttempts  AccountBalance  \\\n",
       "0                   0            -0.552443      -0.206794       -0.000537   \n",
       "1                   0             0.305314      -0.206794        2.216472   \n",
       "2                   3            -0.909842      -0.206794       -1.023534   \n",
       "3                   3            -1.353017      -0.206794        0.885797   \n",
       "4                   3             1.120184      -0.206794        0.593589   \n",
       "\n",
       "   DaysSinceLastTransaction  \n",
       "0                 -0.800526  \n",
       "1                 -0.076554  \n",
       "2                  0.045675  \n",
       "3                 -0.574872  \n",
       "4                  0.967094  "
      ]
     },
     "execution_count": 15,
     "metadata": {},
     "output_type": "execute_result"
    }
   ],
   "source": [
    "# Normalisasi\n",
    "numerical_cols = [\"TransactionAmount\", \"CustomerAge\", \"TransactionDuration\", \"LoginAttempts\", \"AccountBalance\", \"DaysSinceLastTransaction\"]\n",
    "scaler = StandardScaler()\n",
    "df_clean[numerical_cols] = scaler.fit_transform(df_clean[numerical_cols])\n",
    "\n",
    "\n",
    "df_clean.head()"
   ]
  },
  {
   "cell_type": "markdown",
   "metadata": {
    "id": "BR73dCnrLEiq"
   },
   "source": [
    "# **6. Pembangunan Model Clustering**"
   ]
  },
  {
   "cell_type": "markdown",
   "metadata": {
    "id": "Fkd_QHXWMBDr"
   },
   "source": [
    "## **a. Pembangunan Model Clustering**"
   ]
  },
  {
   "cell_type": "markdown",
   "metadata": {},
   "source": [
    "Pada tahap ini, Anda membangun model clustering dengan memilih algoritma yang sesuai untuk mengelompokkan data berdasarkan kesamaan. Berikut adalah **rekomendasi** tahapannya.\n",
    "1. Pilih algoritma clustering yang sesuai.\n",
    "2. Latih model dengan data menggunakan algoritma tersebut."
   ]
  },
  {
   "cell_type": "code",
   "execution_count": 16,
   "metadata": {},
   "outputs": [],
   "source": [
    "import matplotlib.pyplot as plt\n",
    "from sklearn.cluster import KMeans\n",
    "import numpy as np\n",
    "\n",
    "# Menentukan jumlah cluster optimal menggunakan Elbow Method\n",
    "inertia = []\n",
    "K_range = range(2, 11)  # Mencoba jumlah cluster dari 2 hingga 10\n",
    "\n",
    "for k in K_range:\n",
    "    kmeans = KMeans(n_clusters=k, random_state=42, n_init=10)\n",
    "    kmeans.fit(df_clean)\n",
    "    inertia.append(kmeans.inertia_)\n"
   ]
  },
  {
   "cell_type": "markdown",
   "metadata": {
    "id": "zsGVwzPKMEvn"
   },
   "source": [
    "## **b. Evaluasi Model Clustering**"
   ]
  },
  {
   "cell_type": "markdown",
   "metadata": {
    "id": "qk63ew39MeBf"
   },
   "source": [
    "Untuk menentukan jumlah cluster yang optimal dalam model clustering, Anda dapat menggunakan metode Elbow atau Silhouette Score.\n",
    "\n",
    "Metode ini membantu kita menemukan jumlah cluster yang memberikan pemisahan terbaik antar kelompok data, sehingga model yang dibangun dapat lebih efektif. Berikut adalah **rekomendasi** tahapannya.\n",
    "1. Gunakan Silhouette Score dan Elbow Method untuk menentukan jumlah cluster optimal.\n",
    "2. Hitung Silhouette Score sebagai ukuran kualitas cluster."
   ]
  },
  {
   "cell_type": "code",
   "execution_count": 17,
   "metadata": {},
   "outputs": [
    {
     "data": {
      "image/png": "[encoded data removed]",
      "text/plain": [
       "<Figure size 800x500 with 1 Axes>"
      ]
     },
     "metadata": {},
     "output_type": "display_data"
    },
    {
     "data": {
      "image/png": "[encoded data removed]",
      "text/plain": [
       "<Figure size 800x500 with 1 Axes>"
      ]
     },
     "metadata": {},
     "output_type": "display_data"
    },
    {
     "data": {
      "text/plain": [
       "2"
      ]
     },
     "execution_count": 17,
     "metadata": {},
     "output_type": "execute_result"
    }
   ],
   "source": [
    "# Plot Elbow Method\n",
    "plt.figure(figsize=(8, 5))\n",
    "plt.plot(K_range, inertia, marker=\"o\", linestyle=\"-\")\n",
    "plt.xlabel(\"Number of Clusters (k)\")\n",
    "plt.ylabel(\"Inertia\")\n",
    "plt.title(\"Elbow Method for Optimal k\")\n",
    "plt.show()\n",
    "\n",
    "from sklearn.metrics import silhouette_score\n",
    "\n",
    "# Menentukan jumlah cluster optimal menggunakan Silhouette Score\n",
    "silhouette_scores = []\n",
    "\n",
    "for k in K_range:\n",
    "    kmeans = KMeans(n_clusters=k, random_state=42, n_init=10)\n",
    "    cluster_labels = kmeans.fit_predict(df_clean)\n",
    "    score = silhouette_score(df_clean, cluster_labels)\n",
    "    silhouette_scores.append(score)\n",
    "\n",
    "# Plot Silhouette Score\n",
    "plt.figure(figsize=(8, 5))\n",
    "plt.plot(K_range, silhouette_scores, marker=\"o\", linestyle=\"-\", color=\"r\")\n",
    "plt.xlabel(\"Number of Clusters (k)\")\n",
    "plt.ylabel(\"Silhouette Score\")\n",
    "plt.title(\"Silhouette Score for Optimal k\")\n",
    "plt.show()\n",
    "\n",
    "# Menampilkan jumlah cluster dengan skor tertinggi\n",
    "optimal_k = K_range[np.argmax(silhouette_scores)]\n",
    "optimal_k"
   ]
  },
  {
   "cell_type": "code",
   "execution_count": 18,
   "metadata": {},
   "outputs": [
    {
     "data": {
      "text/plain": [
       "Cluster\n",
       "0    1282\n",
       "1    1230\n",
       "Name: count, dtype: int64"
      ]
     },
     "execution_count": 18,
     "metadata": {},
     "output_type": "execute_result"
    }
   ],
   "source": [
    "# Melatih model K-Means dengan k=2\n",
    "kmeans_final = KMeans(n_clusters=2, random_state=42, n_init=10)\n",
    "df_clean[\"Cluster\"] = kmeans_final.fit_predict(df_clean)\n",
    "\n",
    "# Menampilkan distribusi cluster\n",
    "df_clean[\"Cluster\"].value_counts()\n"
   ]
  },
  {
   "cell_type": "markdown",
   "metadata": {
    "id": "vWZp5vKNQddd"
   },
   "source": [
    "## **c. Feature Selection (Opsional)**"
   ]
  },
  {
   "cell_type": "markdown",
   "metadata": {
    "id": "QIHKgE07Q4c0"
   },
   "source": [
    "Silakan lakukan feature selection jika Anda membutuhkan optimasi model clustering. Jika Anda menerapkan proses ini, silakan lakukan pemodelan dan evaluasi kembali menggunakan kolom-kolom hasil feature selection. Terakhir, bandingkan hasil performa model sebelum dan sesudah menerapkan feature selection."
   ]
  },
  {
   "cell_type": "code",
   "execution_count": 19,
   "metadata": {},
   "outputs": [
    {
     "name": "stdout",
     "output_type": "stream",
     "text": [
      "<class 'pandas.core.frame.DataFrame'>\n",
      "RangeIndex: 2512 entries, 0 to 2511\n",
      "Data columns (total 11 columns):\n",
      " #   Column                    Non-Null Count  Dtype  \n",
      "---  ------                    --------------  -----  \n",
      " 0   TransactionAmount         2512 non-null   float64\n",
      " 1   TransactionType           2512 non-null   int64  \n",
      " 2   Location                  2512 non-null   int64  \n",
      " 3   Channel                   2512 non-null   int64  \n",
      " 4   CustomerAge               2512 non-null   float64\n",
      " 5   CustomerOccupation        2512 non-null   int64  \n",
      " 6   TransactionDuration       2512 non-null   float64\n",
      " 7   LoginAttempts             2512 non-null   float64\n",
      " 8   AccountBalance            2512 non-null   float64\n",
      " 9   DaysSinceLastTransaction  2512 non-null   float64\n",
      " 10  Cluster                   2512 non-null   int32  \n",
      "dtypes: float64(6), int32(1), int64(4)\n",
      "memory usage: 206.2 KB\n"
     ]
    }
   ],
   "source": [
    "df_clean.info()"
   ]
  },
  {
   "cell_type": "code",
   "execution_count": 20,
   "metadata": {},
   "outputs": [
    {
     "data": {
      "text/plain": [
       "Index(['TransactionAmount', 'TransactionType', 'Location', 'Channel',\n",
       "       'CustomerAge', 'CustomerOccupation', 'TransactionDuration',\n",
       "       'LoginAttempts', 'AccountBalance', 'DaysSinceLastTransaction'],\n",
       "      dtype='object')"
      ]
     },
     "execution_count": 20,
     "metadata": {},
     "output_type": "execute_result"
    }
   ],
   "source": [
    "from sklearn.feature_selection import VarianceThreshold\n",
    "\n",
    "# Menggunakan Variance Threshold untuk mendeteksi fitur dengan variasi rendah\n",
    "selector = VarianceThreshold(threshold=0.01)\n",
    "selected_features = selector.fit_transform(df_clean.drop(columns=[\"Cluster\"]))\n",
    "\n",
    "# Menampilkan fitur yang dipertahankan\n",
    "selected_feature_names = df_clean.drop(columns=[\"Cluster\"]).columns[selector.get_support()]\n",
    "selected_feature_names\n"
   ]
  },
  {
   "cell_type": "markdown",
   "metadata": {},
   "source": [
    "Hasil Variance Threshold menunjukkan bahwa semua fitur tetap dipertahankan karena memiliki variabilitas yang cukup. Tidak ada fitur yang dihapus."
   ]
  },
  {
   "cell_type": "markdown",
   "metadata": {
    "id": "nn01TKkLLRiF"
   },
   "source": [
    "## **d. Visualisasi Hasil Clustering**"
   ]
  },
  {
   "cell_type": "markdown",
   "metadata": {
    "id": "gaz0fnhhMkRI"
   },
   "source": [
    "Setelah model clustering dilatih dan jumlah cluster optimal ditentukan, langkah selanjutnya adalah menampilkan hasil clustering melalui visualisasi.\n",
    "\n",
    "Berikut adalah **rekomendasi** tahapannya.\n",
    "1. Tampilkan hasil clustering dalam bentuk visualisasi, seperti grafik scatter plot atau 2D PCA projection."
   ]
  },
  {
   "cell_type": "code",
   "execution_count": 21,
   "metadata": {},
   "outputs": [
    {
     "data": {
      "image/png": "[encoded data removed]",
      "text/plain": [
       "<Figure size 800x600 with 1 Axes>"
      ]
     },
     "metadata": {},
     "output_type": "display_data"
    }
   ],
   "source": [
    "import matplotlib.pyplot as plt\n",
    "from sklearn.decomposition import PCA\n",
    "\n",
    "# Mengurangi dimensi data menjadi 2D menggunakan PCA\n",
    "pca = PCA(n_components=2)\n",
    "df_pca = pca.fit_transform(df_clean.drop(columns=[\"Cluster\"]))\n",
    "\n",
    "# Membuat DataFrame hasil PCA\n",
    "df_pca = pd.DataFrame(df_pca, columns=[\"PC1\", \"PC2\"])\n",
    "df_pca[\"Cluster\"] = df_clean[\"Cluster\"]\n",
    "\n",
    "# Visualisasi hasil clustering\n",
    "plt.figure(figsize=(8, 6))\n",
    "for cluster in df_pca[\"Cluster\"].unique():\n",
    "    subset = df_pca[df_pca[\"Cluster\"] == cluster]\n",
    "    plt.scatter(subset[\"PC1\"], subset[\"PC2\"], label=f\"Cluster {cluster}\", alpha=0.6)\n",
    "\n",
    "plt.xlabel(\"Principal Component 1\")\n",
    "plt.ylabel(\"Principal Component 2\")\n",
    "plt.title(\"PCA Projection of Clusters\")\n",
    "plt.legend()\n",
    "plt.show()\n"
   ]
  },
  {
   "cell_type": "code",
   "execution_count": 22,
   "metadata": {},
   "outputs": [
    {
     "name": "stdout",
     "output_type": "stream",
     "text": [
      "<class 'pandas.core.frame.DataFrame'>\n",
      "RangeIndex: 2512 entries, 0 to 2511\n",
      "Data columns (total 11 columns):\n",
      " #   Column                    Non-Null Count  Dtype  \n",
      "---  ------                    --------------  -----  \n",
      " 0   TransactionAmount         2512 non-null   float64\n",
      " 1   TransactionType           2512 non-null   int64  \n",
      " 2   Location                  2512 non-null   int64  \n",
      " 3   Channel                   2512 non-null   int64  \n",
      " 4   CustomerAge               2512 non-null   float64\n",
      " 5   CustomerOccupation        2512 non-null   int64  \n",
      " 6   TransactionDuration       2512 non-null   float64\n",
      " 7   LoginAttempts             2512 non-null   float64\n",
      " 8   AccountBalance            2512 non-null   float64\n",
      " 9   DaysSinceLastTransaction  2512 non-null   float64\n",
      " 10  Cluster                   2512 non-null   int32  \n",
      "dtypes: float64(6), int32(1), int64(4)\n",
      "memory usage: 206.2 KB\n"
     ]
    }
   ],
   "source": [
    "df_clean.info()"
   ]
  },
  {
   "cell_type": "markdown",
   "metadata": {
    "id": "X4eydPWJLH4I"
   },
   "source": [
    "## **e. Analisis dan Interpretasi Hasil Cluster**"
   ]
  },
  {
   "cell_type": "markdown",
   "metadata": {
    "id": "mxTeTkTkA7o6"
   },
   "source": [
    "### Interpretasi Target"
   ]
  },
  {
   "cell_type": "markdown",
   "metadata": {
    "id": "NJDsBARmIsbW"
   },
   "source": [
    "**Tutorial: Melakukan Inverse Transform pada Data Target Setelah Clustering**\n",
    "\n",
    "Setelah melakukan clustering dengan model **KMeans**, kita perlu mengembalikan data yang telah diubah (normalisasi, standarisasi, atau label encoding) ke bentuk aslinya. Berikut adalah langkah-langkahnya.\n",
    "\n",
    "---\n",
    "\n",
    "**1. Tambahkan Hasil Label Cluster ke DataFrame**\n",
    "Setelah mendapatkan hasil clustering, kita tambahkan label cluster ke dalam DataFrame yang telah dinormalisasi.\n",
    "\n",
    "```python\n",
    "df_normalized['Cluster'] = model_kmeans.labels_\n",
    "```\n",
    "\n",
    "Lakukan Inverse Transform pada feature yang sudah dilakukan Labelisasi dan Standararisasi. Berikut code untuk melakukannya:\n",
    "label_encoder.inverse_transform(X_Selected[['Fitur']])\n",
    "\n",
    "Lalu masukkan ke dalam kolom dataset asli atau membuat dataframe baru\n",
    "```python\n",
    "df_normalized['Fitur'] = label_encoder.inverse_transform(df_normalized[['Fitur']])\n",
    "```\n",
    "Masukkan Data yang Sudah Di-Inverse ke dalam Dataset Asli atau Buat DataFrame Baru\n",
    "```python\n",
    "df_original['Fitur'] = df_normalized['Fitur']\n",
    "```"
   ]
  },
  {
   "cell_type": "markdown",
   "metadata": {},
   "source": [
    "### Inverse Data Jika Melakukan Normalisasi/Standardisasi"
   ]
  },
  {
   "cell_type": "markdown",
   "metadata": {},
   "source": [
    "Inverse Transform untuk Data yang Distandarisasi\n",
    "Jika data numerik telah dinormalisasi menggunakan StandardScaler atau MinMaxScaler, kita bisa mengembalikannya ke skala asli:\n",
    "```python\n",
    "df_normalized[['Fitur_Numerik']] = scaler.inverse_transform(df_normalized[['Fitur_Numerik']])\n",
    "```"
   ]
  },
  {
   "cell_type": "code",
   "execution_count": 23,
   "metadata": {},
   "outputs": [
    {
     "data": {
      "application/vnd.microsoft.datawrangler.viewer.v0+json": {
       "columns": [
        {
         "name": "index",
         "rawType": "int64",
         "type": "integer"
        },
        {
         "name": "TransactionID",
         "rawType": "object",
         "type": "string"
        },
        {
         "name": "AccountID",
         "rawType": "object",
         "type": "string"
        },
        {
         "name": "TransactionAmount",
         "rawType": "float64",
         "type": "float"
        },
        {
         "name": "TransactionDate",
         "rawType": "object",
         "type": "string"
        },
        {
         "name": "TransactionType",
         "rawType": "object",
         "type": "string"
        },
        {
         "name": "Location",
         "rawType": "object",
         "type": "string"
        },
        {
         "name": "DeviceID",
         "rawType": "object",
         "type": "string"
        },
        {
         "name": "IP Address",
         "rawType": "object",
         "type": "string"
        },
        {
         "name": "MerchantID",
         "rawType": "object",
         "type": "string"
        },
        {
         "name": "Channel",
         "rawType": "object",
         "type": "string"
        },
        {
         "name": "CustomerAge",
         "rawType": "float64",
         "type": "float"
        },
        {
         "name": "CustomerOccupation",
         "rawType": "object",
         "type": "string"
        },
        {
         "name": "TransactionDuration",
         "rawType": "float64",
         "type": "float"
        },
        {
         "name": "LoginAttempts",
         "rawType": "float64",
         "type": "float"
        },
        {
         "name": "AccountBalance",
         "rawType": "float64",
         "type": "float"
        },
        {
         "name": "PreviousTransactionDate",
         "rawType": "object",
         "type": "string"
        },
        {
         "name": "DaysSinceLastTransaction",
         "rawType": "float64",
         "type": "float"
        },
        {
         "name": "Cluster",
         "rawType": "int32",
         "type": "integer"
        }
       ],
       "conversionMethod": "pd.DataFrame",
       "ref": "4eb0992b-3a4b-4021-a18e-66f091e90217",
       "rows": [
        [
         "0",
         "TX000001",
         "AC00128",
         "14.089999999999975",
         "2023-04-11 16:29:14",
         "Debit",
         "San Diego",
         "D000380",
         "162.198.218.92",
         "M015",
         "ATM",
         "70.0",
         "Doctor",
         "81.0",
         "1.0",
         "5112.21",
         "2024-11-04 08:08:08",
         "-573.0",
         "1"
        ],
        [
         "1",
         "TX000002",
         "AC00455",
         "376.24",
         "2023-06-27 16:44:19",
         "Debit",
         "Houston",
         "D000051",
         "13.149.61.4",
         "M052",
         "ATM",
         "68.0",
         "Doctor",
         "141.0",
         "1.0",
         "13758.91",
         "2024-11-04 08:09:35",
         "-496.0",
         "0"
        ],
        [
         "2",
         "TX000003",
         "AC00019",
         "126.28999999999999",
         "2023-07-10 18:16:08",
         "Debit",
         "Mesa",
         "D000235",
         "215.97.143.157",
         "M009",
         "Online",
         "19.0",
         "Student",
         "56.0",
         "1.0",
         "1122.35",
         "2024-11-04 08:07:04",
         "-483.0",
         "1"
        ],
        [
         "3",
         "TX000004",
         "AC00070",
         "184.5",
         "2023-05-05 16:32:11",
         "Debit",
         "Raleigh",
         "D000187",
         "200.13.225.150",
         "M002",
         "Online",
         "26.0",
         "Student",
         "25.0",
         "1.0",
         "8569.06",
         "2024-11-04 08:09:06",
         "-549.0",
         "1"
        ],
        [
         "4",
         "TX000005",
         "AC00411",
         "13.449999999999989",
         "2023-10-16 17:51:24",
         "Credit",
         "Atlanta",
         "D000308",
         "65.164.3.100",
         "M091",
         "Online",
         "26.0",
         "Student",
         "198.0",
         "1.0",
         "7429.4",
         "2024-11-04 08:06:39",
         "-385.0",
         "0"
        ]
       ],
       "shape": {
        "columns": 18,
        "rows": 5
       }
      },
      "text/html": [
       "<div>\n",
       "<style scoped>\n",
       "    .dataframe tbody tr th:only-of-type {\n",
       "        vertical-align: middle;\n",
       "    }\n",
       "\n",
       "    .dataframe tbody tr th {\n",
       "        vertical-align: top;\n",
       "    }\n",
       "\n",
       "    .dataframe thead th {\n",
       "        text-align: right;\n",
       "    }\n",
       "</style>\n",
       "<table border=\"1\" class=\"dataframe\">\n",
       "  <thead>\n",
       "    <tr style=\"text-align: right;\">\n",
       "      <th></th>\n",
       "      <th>TransactionID</th>\n",
       "      <th>AccountID</th>\n",
       "      <th>TransactionAmount</th>\n",
       "      <th>TransactionDate</th>\n",
       "      <th>TransactionType</th>\n",
       "      <th>Location</th>\n",
       "      <th>DeviceID</th>\n",
       "      <th>IP Address</th>\n",
       "      <th>MerchantID</th>\n",
       "      <th>Channel</th>\n",
       "      <th>CustomerAge</th>\n",
       "      <th>CustomerOccupation</th>\n",
       "      <th>TransactionDuration</th>\n",
       "      <th>LoginAttempts</th>\n",
       "      <th>AccountBalance</th>\n",
       "      <th>PreviousTransactionDate</th>\n",
       "      <th>DaysSinceLastTransaction</th>\n",
       "      <th>Cluster</th>\n",
       "    </tr>\n",
       "  </thead>\n",
       "  <tbody>\n",
       "    <tr>\n",
       "      <th>0</th>\n",
       "      <td>TX000001</td>\n",
       "      <td>AC00128</td>\n",
       "      <td>14.09</td>\n",
       "      <td>2023-04-11 16:29:14</td>\n",
       "      <td>Debit</td>\n",
       "      <td>San Diego</td>\n",
       "      <td>D000380</td>\n",
       "      <td>162.198.218.92</td>\n",
       "      <td>M015</td>\n",
       "      <td>ATM</td>\n",
       "      <td>70.0</td>\n",
       "      <td>Doctor</td>\n",
       "      <td>81.0</td>\n",
       "      <td>1.0</td>\n",
       "      <td>5112.21</td>\n",
       "      <td>2024-11-04 08:08:08</td>\n",
       "      <td>-573.0</td>\n",
       "      <td>1</td>\n",
       "    </tr>\n",
       "    <tr>\n",
       "      <th>1</th>\n",
       "      <td>TX000002</td>\n",
       "      <td>AC00455</td>\n",
       "      <td>376.24</td>\n",
       "      <td>2023-06-27 16:44:19</td>\n",
       "      <td>Debit</td>\n",
       "      <td>Houston</td>\n",
       "      <td>D000051</td>\n",
       "      <td>13.149.61.4</td>\n",
       "      <td>M052</td>\n",
       "      <td>ATM</td>\n",
       "      <td>68.0</td>\n",
       "      <td>Doctor</td>\n",
       "      <td>141.0</td>\n",
       "      <td>1.0</td>\n",
       "      <td>13758.91</td>\n",
       "      <td>2024-11-04 08:09:35</td>\n",
       "      <td>-496.0</td>\n",
       "      <td>0</td>\n",
       "    </tr>\n",
       "    <tr>\n",
       "      <th>2</th>\n",
       "      <td>TX000003</td>\n",
       "      <td>AC00019</td>\n",
       "      <td>126.29</td>\n",
       "      <td>2023-07-10 18:16:08</td>\n",
       "      <td>Debit</td>\n",
       "      <td>Mesa</td>\n",
       "      <td>D000235</td>\n",
       "      <td>215.97.143.157</td>\n",
       "      <td>M009</td>\n",
       "      <td>Online</td>\n",
       "      <td>19.0</td>\n",
       "      <td>Student</td>\n",
       "      <td>56.0</td>\n",
       "      <td>1.0</td>\n",
       "      <td>1122.35</td>\n",
       "      <td>2024-11-04 08:07:04</td>\n",
       "      <td>-483.0</td>\n",
       "      <td>1</td>\n",
       "    </tr>\n",
       "    <tr>\n",
       "      <th>3</th>\n",
       "      <td>TX000004</td>\n",
       "      <td>AC00070</td>\n",
       "      <td>184.50</td>\n",
       "      <td>2023-05-05 16:32:11</td>\n",
       "      <td>Debit</td>\n",
       "      <td>Raleigh</td>\n",
       "      <td>D000187</td>\n",
       "      <td>200.13.225.150</td>\n",
       "      <td>M002</td>\n",
       "      <td>Online</td>\n",
       "      <td>26.0</td>\n",
       "      <td>Student</td>\n",
       "      <td>25.0</td>\n",
       "      <td>1.0</td>\n",
       "      <td>8569.06</td>\n",
       "      <td>2024-11-04 08:09:06</td>\n",
       "      <td>-549.0</td>\n",
       "      <td>1</td>\n",
       "    </tr>\n",
       "    <tr>\n",
       "      <th>4</th>\n",
       "      <td>TX000005</td>\n",
       "      <td>AC00411</td>\n",
       "      <td>13.45</td>\n",
       "      <td>2023-10-16 17:51:24</td>\n",
       "      <td>Credit</td>\n",
       "      <td>Atlanta</td>\n",
       "      <td>D000308</td>\n",
       "      <td>65.164.3.100</td>\n",
       "      <td>M091</td>\n",
       "      <td>Online</td>\n",
       "      <td>26.0</td>\n",
       "      <td>Student</td>\n",
       "      <td>198.0</td>\n",
       "      <td>1.0</td>\n",
       "      <td>7429.40</td>\n",
       "      <td>2024-11-04 08:06:39</td>\n",
       "      <td>-385.0</td>\n",
       "      <td>0</td>\n",
       "    </tr>\n",
       "  </tbody>\n",
       "</table>\n",
       "</div>"
      ],
      "text/plain": [
       "  TransactionID AccountID  TransactionAmount      TransactionDate  \\\n",
       "0      TX000001   AC00128              14.09  2023-04-11 16:29:14   \n",
       "1      TX000002   AC00455             376.24  2023-06-27 16:44:19   \n",
       "2      TX000003   AC00019             126.29  2023-07-10 18:16:08   \n",
       "3      TX000004   AC00070             184.50  2023-05-05 16:32:11   \n",
       "4      TX000005   AC00411              13.45  2023-10-16 17:51:24   \n",
       "\n",
       "  TransactionType   Location DeviceID      IP Address MerchantID Channel  \\\n",
       "0           Debit  San Diego  D000380  162.198.218.92       M015     ATM   \n",
       "1           Debit    Houston  D000051     13.149.61.4       M052     ATM   \n",
       "2           Debit       Mesa  D000235  215.97.143.157       M009  Online   \n",
       "3           Debit    Raleigh  D000187  200.13.225.150       M002  Online   \n",
       "4          Credit    Atlanta  D000308    65.164.3.100       M091  Online   \n",
       "\n",
       "   CustomerAge CustomerOccupation  TransactionDuration  LoginAttempts  \\\n",
       "0         70.0             Doctor                 81.0            1.0   \n",
       "1         68.0             Doctor                141.0            1.0   \n",
       "2         19.0            Student                 56.0            1.0   \n",
       "3         26.0            Student                 25.0            1.0   \n",
       "4         26.0            Student                198.0            1.0   \n",
       "\n",
       "   AccountBalance PreviousTransactionDate  DaysSinceLastTransaction  Cluster  \n",
       "0         5112.21     2024-11-04 08:08:08                    -573.0        1  \n",
       "1        13758.91     2024-11-04 08:09:35                    -496.0        0  \n",
       "2         1122.35     2024-11-04 08:07:04                    -483.0        1  \n",
       "3         8569.06     2024-11-04 08:09:06                    -549.0        1  \n",
       "4         7429.40     2024-11-04 08:06:39                    -385.0        0  "
      ]
     },
     "execution_count": 23,
     "metadata": {},
     "output_type": "execute_result"
    }
   ],
   "source": [
    "# Inverse transform fitur kategorikal\n",
    "for col in categorical_cols:\n",
    "    df_clean[col] = label_encoders[col].inverse_transform(df_clean[col])\n",
    "\n",
    "# Inverse transform fitur numerik yang telah dinormalisasi\n",
    "df_original = df.copy()  # Membuat salinan dataset asli untuk ditambahkan hasil inverse\n",
    "df_original[numerical_cols] = scaler.inverse_transform(df_clean[numerical_cols])\n",
    "\n",
    "# Menambahkan hasil cluster ke dataset asli\n",
    "df_original[\"Cluster\"] = df_clean[\"Cluster\"]\n",
    "\n",
    "# Menampilkan beberapa baris pertama dari dataset asli yang telah diperbarui\n",
    "df_original.head()\n"
   ]
  },
  {
   "cell_type": "code",
   "execution_count": 24,
   "metadata": {},
   "outputs": [
    {
     "name": "stdout",
     "output_type": "stream",
     "text": [
      "<class 'pandas.core.frame.DataFrame'>\n",
      "RangeIndex: 2512 entries, 0 to 2511\n",
      "Data columns (total 18 columns):\n",
      " #   Column                    Non-Null Count  Dtype  \n",
      "---  ------                    --------------  -----  \n",
      " 0   TransactionID             2512 non-null   object \n",
      " 1   AccountID                 2512 non-null   object \n",
      " 2   TransactionAmount         2512 non-null   float64\n",
      " 3   TransactionDate           2512 non-null   object \n",
      " 4   TransactionType           2512 non-null   object \n",
      " 5   Location                  2512 non-null   object \n",
      " 6   DeviceID                  2512 non-null   object \n",
      " 7   IP Address                2512 non-null   object \n",
      " 8   MerchantID                2512 non-null   object \n",
      " 9   Channel                   2512 non-null   object \n",
      " 10  CustomerAge               2512 non-null   float64\n",
      " 11  CustomerOccupation        2512 non-null   object \n",
      " 12  TransactionDuration       2512 non-null   float64\n",
      " 13  LoginAttempts             2512 non-null   float64\n",
      " 14  AccountBalance            2512 non-null   float64\n",
      " 15  PreviousTransactionDate   2512 non-null   object \n",
      " 16  DaysSinceLastTransaction  2512 non-null   float64\n",
      " 17  Cluster                   2512 non-null   int32  \n",
      "dtypes: float64(6), int32(1), object(11)\n",
      "memory usage: 343.6+ KB\n"
     ]
    }
   ],
   "source": [
    "df_original.info()"
   ]
  },
  {
   "cell_type": "markdown",
   "metadata": {
    "id": "SENfLnfRMpC-"
   },
   "source": [
    "Setelah melakukan clustering, langkah selanjutnya adalah menganalisis karakteristik dari masing-masing cluster berdasarkan fitur yang tersedia.\n",
    "\n",
    "Berikut adalah **rekomendasi** tahapannya.\n",
    "1. Analisis karakteristik tiap cluster berdasarkan fitur yang tersedia (misalnya, distribusi nilai dalam cluster).\n",
    "2. Berikan interpretasi: Apakah hasil clustering sesuai dengan ekspektasi dan logika bisnis? Apakah ada pola tertentu yang bisa dimanfaatkan?"
   ]
  },
  {
   "cell_type": "code",
   "execution_count": 25,
   "metadata": {
    "id": "MFq0x-OzM_Wt"
   },
   "outputs": [
    {
     "data": {
      "application/vnd.microsoft.datawrangler.viewer.v0+json": {
       "columns": [
        {
         "name": "Cluster",
         "rawType": "int32",
         "type": "integer"
        },
        {
         "name": "('TransactionAmount', 'count')",
         "rawType": "float64",
         "type": "float"
        },
        {
         "name": "('TransactionAmount', 'mean')",
         "rawType": "float64",
         "type": "float"
        },
        {
         "name": "('TransactionAmount', 'std')",
         "rawType": "float64",
         "type": "float"
        },
        {
         "name": "('TransactionAmount', 'min')",
         "rawType": "float64",
         "type": "float"
        },
        {
         "name": "('TransactionAmount', '25%')",
         "rawType": "float64",
         "type": "float"
        },
        {
         "name": "('TransactionAmount', '50%')",
         "rawType": "float64",
         "type": "float"
        },
        {
         "name": "('TransactionAmount', '75%')",
         "rawType": "float64",
         "type": "float"
        },
        {
         "name": "('TransactionAmount', 'max')",
         "rawType": "float64",
         "type": "float"
        },
        {
         "name": "('CustomerAge', 'count')",
         "rawType": "float64",
         "type": "float"
        },
        {
         "name": "('CustomerAge', 'mean')",
         "rawType": "float64",
         "type": "float"
        },
        {
         "name": "('CustomerAge', 'std')",
         "rawType": "float64",
         "type": "float"
        },
        {
         "name": "('CustomerAge', 'min')",
         "rawType": "float64",
         "type": "float"
        },
        {
         "name": "('CustomerAge', '25%')",
         "rawType": "float64",
         "type": "float"
        },
        {
         "name": "('CustomerAge', '50%')",
         "rawType": "float64",
         "type": "float"
        },
        {
         "name": "('CustomerAge', '75%')",
         "rawType": "float64",
         "type": "float"
        },
        {
         "name": "('CustomerAge', 'max')",
         "rawType": "float64",
         "type": "float"
        },
        {
         "name": "('TransactionDuration', 'count')",
         "rawType": "float64",
         "type": "float"
        },
        {
         "name": "('TransactionDuration', 'mean')",
         "rawType": "float64",
         "type": "float"
        },
        {
         "name": "('TransactionDuration', 'std')",
         "rawType": "float64",
         "type": "float"
        },
        {
         "name": "('TransactionDuration', 'min')",
         "rawType": "float64",
         "type": "float"
        },
        {
         "name": "('TransactionDuration', '25%')",
         "rawType": "float64",
         "type": "float"
        },
        {
         "name": "('TransactionDuration', '50%')",
         "rawType": "float64",
         "type": "float"
        },
        {
         "name": "('TransactionDuration', '75%')",
         "rawType": "float64",
         "type": "float"
        },
        {
         "name": "('TransactionDuration', 'max')",
         "rawType": "float64",
         "type": "float"
        },
        {
         "name": "('LoginAttempts', 'count')",
         "rawType": "float64",
         "type": "float"
        },
        {
         "name": "('LoginAttempts', 'mean')",
         "rawType": "float64",
         "type": "float"
        },
        {
         "name": "('LoginAttempts', 'std')",
         "rawType": "float64",
         "type": "float"
        },
        {
         "name": "('LoginAttempts', 'min')",
         "rawType": "float64",
         "type": "float"
        },
        {
         "name": "('LoginAttempts', '25%')",
         "rawType": "float64",
         "type": "float"
        },
        {
         "name": "('LoginAttempts', '50%')",
         "rawType": "float64",
         "type": "float"
        },
        {
         "name": "('LoginAttempts', '75%')",
         "rawType": "float64",
         "type": "float"
        },
        {
         "name": "('LoginAttempts', 'max')",
         "rawType": "float64",
         "type": "float"
        },
        {
         "name": "('AccountBalance', 'count')",
         "rawType": "float64",
         "type": "float"
        },
        {
         "name": "('AccountBalance', 'mean')",
         "rawType": "float64",
         "type": "float"
        },
        {
         "name": "('AccountBalance', 'std')",
         "rawType": "float64",
         "type": "float"
        },
        {
         "name": "('AccountBalance', 'min')",
         "rawType": "float64",
         "type": "float"
        },
        {
         "name": "('AccountBalance', '25%')",
         "rawType": "float64",
         "type": "float"
        },
        {
         "name": "('AccountBalance', '50%')",
         "rawType": "float64",
         "type": "float"
        },
        {
         "name": "('AccountBalance', '75%')",
         "rawType": "float64",
         "type": "float"
        },
        {
         "name": "('AccountBalance', 'max')",
         "rawType": "float64",
         "type": "float"
        },
        {
         "name": "('DaysSinceLastTransaction', 'count')",
         "rawType": "float64",
         "type": "float"
        },
        {
         "name": "('DaysSinceLastTransaction', 'mean')",
         "rawType": "float64",
         "type": "float"
        },
        {
         "name": "('DaysSinceLastTransaction', 'std')",
         "rawType": "float64",
         "type": "float"
        },
        {
         "name": "('DaysSinceLastTransaction', 'min')",
         "rawType": "float64",
         "type": "float"
        },
        {
         "name": "('DaysSinceLastTransaction', '25%')",
         "rawType": "float64",
         "type": "float"
        },
        {
         "name": "('DaysSinceLastTransaction', '50%')",
         "rawType": "float64",
         "type": "float"
        },
        {
         "name": "('DaysSinceLastTransaction', '75%')",
         "rawType": "float64",
         "type": "float"
        },
        {
         "name": "('DaysSinceLastTransaction', 'max')",
         "rawType": "float64",
         "type": "float"
        }
       ],
       "conversionMethod": "pd.DataFrame",
       "ref": "06f2b187-1211-4b16-b42a-8f0b2d7d8a46",
       "rows": [
        [
         "0",
         "1282.0",
         "294.42194227769113",
         "286.2480154299738",
         "0.3199999999999932",
         "77.14750000000001",
         "214.345",
         "416.5575",
         "1831.02",
         "1282.0",
         "45.07176287051482",
         "17.863944948703203",
         "18.0",
         "28.0",
         "46.0",
         "60.0",
         "80.0",
         "1282.0",
         "120.94461778471138",
         "71.56389014746759",
         "10.0",
         "63.0",
         "114.0",
         "163.0",
         "300.0",
         "1282.0",
         "1.1349453978159125",
         "0.6245400781954062",
         "1.0",
         "1.0",
         "1.0",
         "1.0",
         "5.0",
         "1282.0",
         "5159.046677067083",
         "3872.801240646557",
         "101.25",
         "1498.825",
         "5013.98",
         "7795.5525",
         "14942.78",
         "1282.0",
         "-487.5101404056162",
         "106.78914843465826",
         "-672.0",
         "-581.0",
         "-482.5",
         "-392.0",
         "-308.0"
        ],
        [
         "1",
         "1230.0",
         "300.89970731707314",
         "297.8499809852276",
         "0.2599999999999909",
         "85.50500000000001",
         "204.63",
         "411.39",
         "1919.11",
         "1230.0",
         "44.259349593495934",
         "17.71486179170376",
         "18.0",
         "27.0",
         "44.0",
         "59.0",
         "80.0",
         "1230.0",
         "118.2869918699187",
         "68.25875535462826",
         "10.0",
         "63.0",
         "111.0",
         "160.0",
         "300.0",
         "1230.0",
         "1.113821138211382",
         "0.5790378376699962",
         "1.0",
         "1.0",
         "1.0",
         "1.0",
         "5.0",
         "1230.0",
         "5067.667650406504",
         "3931.092505547941",
         "102.19999999999982",
         "1513.8249999999998",
         "4495.025",
         "7626.0375",
         "14977.99",
         "1230.0",
         "-488.22032520325206",
         "105.99185259640707",
         "-672.0",
         "-584.0",
         "-489.0",
         "-396.0",
         "-308.0"
        ]
       ],
       "shape": {
        "columns": 48,
        "rows": 2
       }
      },
      "text/html": [
       "<div>\n",
       "<style scoped>\n",
       "    .dataframe tbody tr th:only-of-type {\n",
       "        vertical-align: middle;\n",
       "    }\n",
       "\n",
       "    .dataframe tbody tr th {\n",
       "        vertical-align: top;\n",
       "    }\n",
       "\n",
       "    .dataframe thead tr th {\n",
       "        text-align: left;\n",
       "    }\n",
       "\n",
       "    .dataframe thead tr:last-of-type th {\n",
       "        text-align: right;\n",
       "    }\n",
       "</style>\n",
       "<table border=\"1\" class=\"dataframe\">\n",
       "  <thead>\n",
       "    <tr>\n",
       "      <th></th>\n",
       "      <th colspan=\"8\" halign=\"left\">TransactionAmount</th>\n",
       "      <th colspan=\"2\" halign=\"left\">CustomerAge</th>\n",
       "      <th>...</th>\n",
       "      <th colspan=\"2\" halign=\"left\">AccountBalance</th>\n",
       "      <th colspan=\"8\" halign=\"left\">DaysSinceLastTransaction</th>\n",
       "    </tr>\n",
       "    <tr>\n",
       "      <th></th>\n",
       "      <th>count</th>\n",
       "      <th>mean</th>\n",
       "      <th>std</th>\n",
       "      <th>min</th>\n",
       "      <th>25%</th>\n",
       "      <th>50%</th>\n",
       "      <th>75%</th>\n",
       "      <th>max</th>\n",
       "      <th>count</th>\n",
       "      <th>mean</th>\n",
       "      <th>...</th>\n",
       "      <th>75%</th>\n",
       "      <th>max</th>\n",
       "      <th>count</th>\n",
       "      <th>mean</th>\n",
       "      <th>std</th>\n",
       "      <th>min</th>\n",
       "      <th>25%</th>\n",
       "      <th>50%</th>\n",
       "      <th>75%</th>\n",
       "      <th>max</th>\n",
       "    </tr>\n",
       "    <tr>\n",
       "      <th>Cluster</th>\n",
       "      <th></th>\n",
       "      <th></th>\n",
       "      <th></th>\n",
       "      <th></th>\n",
       "      <th></th>\n",
       "      <th></th>\n",
       "      <th></th>\n",
       "      <th></th>\n",
       "      <th></th>\n",
       "      <th></th>\n",
       "      <th></th>\n",
       "      <th></th>\n",
       "      <th></th>\n",
       "      <th></th>\n",
       "      <th></th>\n",
       "      <th></th>\n",
       "      <th></th>\n",
       "      <th></th>\n",
       "      <th></th>\n",
       "      <th></th>\n",
       "      <th></th>\n",
       "    </tr>\n",
       "  </thead>\n",
       "  <tbody>\n",
       "    <tr>\n",
       "      <th>0</th>\n",
       "      <td>1282.0</td>\n",
       "      <td>294.421942</td>\n",
       "      <td>286.248015</td>\n",
       "      <td>0.32</td>\n",
       "      <td>77.1475</td>\n",
       "      <td>214.345</td>\n",
       "      <td>416.5575</td>\n",
       "      <td>1831.02</td>\n",
       "      <td>1282.0</td>\n",
       "      <td>45.071763</td>\n",
       "      <td>...</td>\n",
       "      <td>7795.5525</td>\n",
       "      <td>14942.78</td>\n",
       "      <td>1282.0</td>\n",
       "      <td>-487.510140</td>\n",
       "      <td>106.789148</td>\n",
       "      <td>-672.0</td>\n",
       "      <td>-581.0</td>\n",
       "      <td>-482.5</td>\n",
       "      <td>-392.0</td>\n",
       "      <td>-308.0</td>\n",
       "    </tr>\n",
       "    <tr>\n",
       "      <th>1</th>\n",
       "      <td>1230.0</td>\n",
       "      <td>300.899707</td>\n",
       "      <td>297.849981</td>\n",
       "      <td>0.26</td>\n",
       "      <td>85.5050</td>\n",
       "      <td>204.630</td>\n",
       "      <td>411.3900</td>\n",
       "      <td>1919.11</td>\n",
       "      <td>1230.0</td>\n",
       "      <td>44.259350</td>\n",
       "      <td>...</td>\n",
       "      <td>7626.0375</td>\n",
       "      <td>14977.99</td>\n",
       "      <td>1230.0</td>\n",
       "      <td>-488.220325</td>\n",
       "      <td>105.991853</td>\n",
       "      <td>-672.0</td>\n",
       "      <td>-584.0</td>\n",
       "      <td>-489.0</td>\n",
       "      <td>-396.0</td>\n",
       "      <td>-308.0</td>\n",
       "    </tr>\n",
       "  </tbody>\n",
       "</table>\n",
       "<p>2 rows × 48 columns</p>\n",
       "</div>"
      ],
      "text/plain": [
       "        TransactionAmount                                                  \\\n",
       "                    count        mean         std   min      25%      50%   \n",
       "Cluster                                                                     \n",
       "0                  1282.0  294.421942  286.248015  0.32  77.1475  214.345   \n",
       "1                  1230.0  300.899707  297.849981  0.26  85.5050  204.630   \n",
       "\n",
       "                           CustomerAge             ... AccountBalance  \\\n",
       "              75%      max       count       mean  ...            75%   \n",
       "Cluster                                            ...                  \n",
       "0        416.5575  1831.02      1282.0  45.071763  ...      7795.5525   \n",
       "1        411.3900  1919.11      1230.0  44.259350  ...      7626.0375   \n",
       "\n",
       "                  DaysSinceLastTransaction                                 \\\n",
       "              max                    count        mean         std    min   \n",
       "Cluster                                                                     \n",
       "0        14942.78                   1282.0 -487.510140  106.789148 -672.0   \n",
       "1        14977.99                   1230.0 -488.220325  105.991853 -672.0   \n",
       "\n",
       "                                     \n",
       "           25%    50%    75%    max  \n",
       "Cluster                              \n",
       "0       -581.0 -482.5 -392.0 -308.0  \n",
       "1       -584.0 -489.0 -396.0 -308.0  \n",
       "\n",
       "[2 rows x 48 columns]"
      ]
     },
     "execution_count": 25,
     "metadata": {},
     "output_type": "execute_result"
    }
   ],
   "source": [
    "# Melihat statistik deskriptif berdasarkan setiap cluster\n",
    "cluster_summary = df_original.groupby(\"Cluster\").describe()\n",
    "cluster_summary\n"
   ]
  },
  {
   "cell_type": "code",
   "execution_count": 26,
   "metadata": {},
   "outputs": [
    {
     "data": {
      "image/png": "[encoded data removed]",
      "text/plain": [
       "<Figure size 1200x600 with 1 Axes>"
      ]
     },
     "metadata": {},
     "output_type": "display_data"
    }
   ],
   "source": [
    "import seaborn as sns\n",
    "\n",
    "# Membuat figure untuk visualisasi\n",
    "plt.figure(figsize=(12, 6))\n",
    "\n",
    "# Distribusi Transaction Amount dalam setiap cluster\n",
    "sns.boxplot(x=\"Cluster\", y=\"TransactionAmount\", data=df_original)\n",
    "plt.title(\"Distribusi Transaction Amount dalam Setiap Cluster\")\n",
    "plt.xlabel(\"Cluster\")\n",
    "plt.ylabel(\"Transaction Amount (Asli)\")\n",
    "plt.yscale(\"log\")  # Menggunakan log scale untuk menangani outlier besar\n",
    "plt.show()\n"
   ]
  },
  {
   "cell_type": "markdown",
   "metadata": {
    "id": "JfgVMEBDS3KG"
   },
   "source": [
    "Tulis hasil interpretasinya di sini.\n",
    "1. Cluster 0:\n",
    "    Memiliki jumlah transaksi yang bervariasi, dengan nilai median sekitar 100-300.\n",
    "    Terdapat beberapa transaksi besar (outlier) yang signifikan.\n",
    "    Usia pelanggan dalam cluster ini memiliki rata-rata 45 tahun, tidak jauh berbeda dengan cluster lain.\n",
    "    Mayoritas transaksi tampak normal, tetapi ada beberapa transaksi bernilai besar yang bisa dianalisis lebih lanjut untuk potensi fraud.\n",
    "    \n",
    "2. Cluster 1:\n",
    "    Distribusi transaksi mirip dengan Cluster 0, dengan rentang jumlah transaksi yang luas.\n",
    "    Memiliki outlier dalam transaksi besar, menunjukkan adanya beberapa transaksi bernilai tinggi.\n",
    "    Usia pelanggan juga berada di kisaran 44-45 tahun, yang tidak berbeda jauh dari cluster lain.\n",
    "    Diperlukan analisis lebih lanjut untuk memahami apakah cluster ini memiliki karakteristik fraud lebih tinggi dibanding Cluster 0."
   ]
  },
  {
   "cell_type": "markdown",
   "metadata": {
    "id": "hOygRVqs_vdU"
   },
   "source": [
    "# Contoh interpretasi [TEMPLATE]\n",
    "# Analisis Karakteristik Cluster dari Model KMeans\n",
    "\n",
    "Berikut adalah analisis karakteristik untuk setiap cluster yang dihasilkan dari model KMeans.\n",
    "\n",
    "## Cluster 0:\n",
    "- **Rata-rata Transaction Amount:** 294.42 \n",
    "- **Rata-rata Customer Age:** 45.07 tahun\n",
    "- **Distribusi Hari Sejak Transaksi Terakhir** Median sekitar -487 hari\n",
    "- **Analisis:** Pelanggan dalam cluster ini memiliki jumlah transaksi yang bervariasi, dengan sebagian besar berada di kisaran normal (100-300). Beberapa transaksi bernilai besar muncul sebagai outlier, yang perlu dianalisis lebih lanjut untuk kemungkinan indikasi fraud. Dari segi usia, pelanggan di cluster ini memiliki rentang usia yang cukup lebar tetapi rata-rata berada di sekitar 45 tahun Cluster ini bisa mencerminkan pelanggan reguler dengan pola transaksi normal, tetapi beberapa transaksi besar perlu dievaluasi lebih lanjut.\n",
    "\n",
    "## Cluster 1:\n",
    "- **Rata-rata Transaction Amount:** 300.90\n",
    "- **Rata-rata Customer Age:** 44.26 tahun\n",
    "- **Distribusi Hari Sejak Transaksi Terakhir** Median sekitar -488 hari\n",
    "- **Analisis:** Cluster ini memiliki karakteristik yang mirip dengan Cluster 0, dengan distribusi jumlah transaksi yang hampir serupa. Sama seperti Cluster 0, terdapat outlier transaksi besar, yang berpotensi menarik untuk investigasi fraud. Dari segi usia, pelanggan di cluster ini berada pada rentang yang sama, dengan perbedaan yang tidak terlalu signifikan dibanding Cluster 0. Bisa jadi cluster ini menggambarkan pelanggan dengan pola transaksi yang sedikit berbeda dari Cluster 0, tetapi masih dalam kategori normal dengan kemungkinan beberapa transaksi mencurigakan."
   ]
  },
  {
   "cell_type": "markdown",
   "metadata": {
    "id": "jaYP1fx5VgWO"
   },
   "source": [
    "# **7. Mengeksport Data**\n",
    "\n",
    "Simpan hasilnya ke dalam file CSV."
   ]
  },
  {
   "cell_type": "code",
   "execution_count": 27,
   "metadata": {},
   "outputs": [
    {
     "name": "stdout",
     "output_type": "stream",
     "text": [
      "<class 'pandas.core.frame.DataFrame'>\n",
      "RangeIndex: 2512 entries, 0 to 2511\n",
      "Data columns (total 18 columns):\n",
      " #   Column                    Non-Null Count  Dtype  \n",
      "---  ------                    --------------  -----  \n",
      " 0   TransactionID             2512 non-null   object \n",
      " 1   AccountID                 2512 non-null   object \n",
      " 2   TransactionAmount         2512 non-null   float64\n",
      " 3   TransactionDate           2512 non-null   object \n",
      " 4   TransactionType           2512 non-null   object \n",
      " 5   Location                  2512 non-null   object \n",
      " 6   DeviceID                  2512 non-null   object \n",
      " 7   IP Address                2512 non-null   object \n",
      " 8   MerchantID                2512 non-null   object \n",
      " 9   Channel                   2512 non-null   object \n",
      " 10  CustomerAge               2512 non-null   float64\n",
      " 11  CustomerOccupation        2512 non-null   object \n",
      " 12  TransactionDuration       2512 non-null   float64\n",
      " 13  LoginAttempts             2512 non-null   float64\n",
      " 14  AccountBalance            2512 non-null   float64\n",
      " 15  PreviousTransactionDate   2512 non-null   object \n",
      " 16  DaysSinceLastTransaction  2512 non-null   float64\n",
      " 17  Cluster                   2512 non-null   int32  \n",
      "dtypes: float64(6), int32(1), object(11)\n",
      "memory usage: 343.6+ KB\n"
     ]
    }
   ],
   "source": [
    "df_original.info()"
   ]
  },
  {
   "cell_type": "markdown",
   "metadata": {},
   "source": []
  },
  {
   "cell_type": "code",
   "execution_count": null,
   "metadata": {
    "id": "fkbg_o80aRSH"
   },
   "outputs": [],
   "source": [
    "# Simpan hasil clustering ke dalam CSV untuk digunakan dalam supervised learning\n",
    "output_file = \"Dataset_inisiasi.csv\"\n",
    "df_original.to_csv(output_file, index=False)"
   ]
  }
 ],
 "metadata": {
  "colab": {
   "provenance": []
  },
  "kernelspec": {
   "display_name": ".venv",
   "language": "python",
   "name": "python3"
  },
  "language_info": {
   "codemirror_mode": {
    "name": "ipython",
    "version": 3
   },
   "file_extension": ".py",
   "mimetype": "text/x-python",
   "name": "python",
   "nbconvert_exporter": "python",
   "pygments_lexer": "ipython3",
   "version": "3.13.2"
  }
 },
 "nbformat": 4,
 "nbformat_minor": 0
}
